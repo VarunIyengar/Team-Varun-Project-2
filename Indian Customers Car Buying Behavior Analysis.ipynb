{
 "cells": [
  {
   "cell_type": "code",
   "execution_count": 109,
   "id": "a9092430",
   "metadata": {},
   "outputs": [],
   "source": [
    "import pandas as pd\n",
    "import seaborn as sb\n",
    "import matplotlib.pyplot as plt\n",
    "from sdv.tabular import GaussianCopula"
   ]
  },
  {
   "cell_type": "code",
   "execution_count": 110,
   "id": "6eb6643c",
   "metadata": {},
   "outputs": [],
   "source": [
    "ds1=pd.read_csv('ElectricCarData_Norm.csv')\n",
    "ds2=pd.read_csv('EVIndia.csv')\n",
    "ds3=pd.read_csv('RS_Session_254_AU_2384.C.i.csv')\n",
    "ds4=pd.read_csv('RS_Session_254_AU_697_1.csv')\n",
    "ds5=pd.read_csv('RS_Session_255_AU_2349_1.csv')"
   ]
  },
  {
   "cell_type": "code",
   "execution_count": 111,
   "id": "3f45b9d1",
   "metadata": {},
   "outputs": [],
   "source": [
    "ds6=pd.read_csv('archive/Indian automoble buying behavour study 1.0.csv')"
   ]
  },
  {
   "cell_type": "code",
   "execution_count": 112,
   "id": "0781944d",
   "metadata": {},
   "outputs": [
    {
     "data": {
      "text/html": [
       "<div>\n",
       "<style scoped>\n",
       "    .dataframe tbody tr th:only-of-type {\n",
       "        vertical-align: middle;\n",
       "    }\n",
       "\n",
       "    .dataframe tbody tr th {\n",
       "        vertical-align: top;\n",
       "    }\n",
       "\n",
       "    .dataframe thead th {\n",
       "        text-align: right;\n",
       "    }\n",
       "</style>\n",
       "<table border=\"1\" class=\"dataframe\">\n",
       "  <thead>\n",
       "    <tr style=\"text-align: right;\">\n",
       "      <th></th>\n",
       "      <th>Age</th>\n",
       "      <th>Profession</th>\n",
       "      <th>Marrital Status</th>\n",
       "      <th>Education</th>\n",
       "      <th>No of Dependents</th>\n",
       "      <th>Personal loan</th>\n",
       "      <th>House Loan</th>\n",
       "      <th>Wife Working</th>\n",
       "      <th>Salary</th>\n",
       "      <th>Wife Salary</th>\n",
       "      <th>Total Salary</th>\n",
       "      <th>Make</th>\n",
       "      <th>Price</th>\n",
       "    </tr>\n",
       "  </thead>\n",
       "  <tbody>\n",
       "    <tr>\n",
       "      <th>0</th>\n",
       "      <td>27</td>\n",
       "      <td>Salaried</td>\n",
       "      <td>Single</td>\n",
       "      <td>Post Graduate</td>\n",
       "      <td>0</td>\n",
       "      <td>Yes</td>\n",
       "      <td>No</td>\n",
       "      <td>No</td>\n",
       "      <td>800000</td>\n",
       "      <td>0</td>\n",
       "      <td>800000</td>\n",
       "      <td>i20</td>\n",
       "      <td>800000</td>\n",
       "    </tr>\n",
       "    <tr>\n",
       "      <th>1</th>\n",
       "      <td>35</td>\n",
       "      <td>Salaried</td>\n",
       "      <td>Married</td>\n",
       "      <td>Post Graduate</td>\n",
       "      <td>2</td>\n",
       "      <td>Yes</td>\n",
       "      <td>Yes</td>\n",
       "      <td>Yes</td>\n",
       "      <td>1400000</td>\n",
       "      <td>600000</td>\n",
       "      <td>2000000</td>\n",
       "      <td>Ciaz</td>\n",
       "      <td>1000000</td>\n",
       "    </tr>\n",
       "    <tr>\n",
       "      <th>2</th>\n",
       "      <td>45</td>\n",
       "      <td>Business</td>\n",
       "      <td>Married</td>\n",
       "      <td>Graduate</td>\n",
       "      <td>4</td>\n",
       "      <td>Yes</td>\n",
       "      <td>Yes</td>\n",
       "      <td>No</td>\n",
       "      <td>1800000</td>\n",
       "      <td>0</td>\n",
       "      <td>1800000</td>\n",
       "      <td>Duster</td>\n",
       "      <td>1200000</td>\n",
       "    </tr>\n",
       "    <tr>\n",
       "      <th>3</th>\n",
       "      <td>41</td>\n",
       "      <td>Business</td>\n",
       "      <td>Married</td>\n",
       "      <td>Post Graduate</td>\n",
       "      <td>3</td>\n",
       "      <td>No</td>\n",
       "      <td>No</td>\n",
       "      <td>Yes</td>\n",
       "      <td>1600000</td>\n",
       "      <td>600000</td>\n",
       "      <td>2200000</td>\n",
       "      <td>City</td>\n",
       "      <td>1200000</td>\n",
       "    </tr>\n",
       "    <tr>\n",
       "      <th>4</th>\n",
       "      <td>31</td>\n",
       "      <td>Salaried</td>\n",
       "      <td>Married</td>\n",
       "      <td>Post Graduate</td>\n",
       "      <td>2</td>\n",
       "      <td>Yes</td>\n",
       "      <td>No</td>\n",
       "      <td>Yes</td>\n",
       "      <td>1800000</td>\n",
       "      <td>800000</td>\n",
       "      <td>2600000</td>\n",
       "      <td>SUV</td>\n",
       "      <td>1600000</td>\n",
       "    </tr>\n",
       "  </tbody>\n",
       "</table>\n",
       "</div>"
      ],
      "text/plain": [
       "   Age Profession Marrital Status      Education  No of Dependents  \\\n",
       "0   27   Salaried          Single  Post Graduate                 0   \n",
       "1   35   Salaried         Married  Post Graduate                 2   \n",
       "2   45   Business         Married       Graduate                 4   \n",
       "3   41   Business         Married  Post Graduate                 3   \n",
       "4   31   Salaried         Married  Post Graduate                 2   \n",
       "\n",
       "  Personal loan House Loan Wife Working   Salary  Wife Salary  Total Salary  \\\n",
       "0           Yes         No           No   800000            0        800000   \n",
       "1           Yes        Yes          Yes  1400000       600000       2000000   \n",
       "2           Yes        Yes           No  1800000            0       1800000   \n",
       "3            No         No          Yes  1600000       600000       2200000   \n",
       "4           Yes         No          Yes  1800000       800000       2600000   \n",
       "\n",
       "     Make    Price  \n",
       "0     i20   800000  \n",
       "1    Ciaz  1000000  \n",
       "2  Duster  1200000  \n",
       "3    City  1200000  \n",
       "4     SUV  1600000  "
      ]
     },
     "execution_count": 112,
     "metadata": {},
     "output_type": "execute_result"
    }
   ],
   "source": [
    "ds6.head()"
   ]
  },
  {
   "cell_type": "markdown",
   "id": "cf740702",
   "metadata": {},
   "source": [
    "### Synthetic Data Generation"
   ]
  },
  {
   "cell_type": "code",
   "execution_count": 113,
   "id": "22e91e16",
   "metadata": {},
   "outputs": [],
   "source": [
    "synthetic_data_generator_model = GaussianCopula()\n",
    "synthetic_data_generator_model.fit(ds6)"
   ]
  },
  {
   "cell_type": "code",
   "execution_count": 114,
   "id": "64aa9aec",
   "metadata": {},
   "outputs": [],
   "source": [
    "sample = synthetic_data_generator_model.sample(1000)"
   ]
  },
  {
   "cell_type": "code",
   "execution_count": 115,
   "id": "981a0b70",
   "metadata": {},
   "outputs": [],
   "source": [
    "ds7=ds6.append(sample)\n",
    "ds7.reset_index(inplace=True)"
   ]
  },
  {
   "cell_type": "markdown",
   "id": "6ed0c9a3",
   "metadata": {},
   "source": [
    "### Explanatory Data Analysis"
   ]
  },
  {
   "cell_type": "code",
   "execution_count": 117,
   "id": "a0aa34a7",
   "metadata": {},
   "outputs": [
    {
     "data": {
      "text/plain": [
       "index               False\n",
       "Age                 False\n",
       "Profession          False\n",
       "Marrital Status     False\n",
       "Education           False\n",
       "No of Dependents    False\n",
       "Personal loan       False\n",
       "House Loan          False\n",
       "Wife Working        False\n",
       "Salary              False\n",
       "Wife Salary         False\n",
       "Total Salary        False\n",
       "Make                False\n",
       "Price               False\n",
       "dtype: bool"
      ]
     },
     "execution_count": 117,
     "metadata": {},
     "output_type": "execute_result"
    }
   ],
   "source": [
    "ds7.isnull().any()"
   ]
  },
  {
   "cell_type": "code",
   "execution_count": 118,
   "id": "f9986332",
   "metadata": {},
   "outputs": [],
   "source": [
    "AgeGroup={}\n",
    "length=ds7.shape[0]\n",
    "AgeGroup['25-30']=round(ds7[(ds7['Age']>=25)&(ds7['Age']<30)].shape[0]*100/length,2)\n",
    "AgeGroup['30-35']=round(ds7[(ds7['Age']>=30)&(ds7['Age']<35)].shape[0]*100/length,2)\n",
    "AgeGroup['35-40']=round(ds7[(ds7['Age']>=35)&(ds7['Age']<40)].shape[0]*100/length,2)\n",
    "AgeGroup['40-45']=round(ds7[(ds7['Age']>=40)&(ds7['Age']<45)].shape[0]*100/length,2)\n",
    "AgeGroup['45-50']=round(ds7[(ds7['Age']>=45)&(ds7['Age']<50)].shape[0]*100/length,2)\n",
    "AgeGroup['50-55']=round(ds7[(ds7['Age']>=50)&(ds7['Age']<55)].shape[0]*100/length,2)\n",
    "AgeGroup['55+']=round(ds7[ds7['Age']>=55].shape[0]/length,2)"
   ]
  },
  {
   "cell_type": "code",
   "execution_count": 119,
   "id": "842594b2",
   "metadata": {},
   "outputs": [
    {
     "data": {
      "image/png": "[encoded data removed]",
      "text/plain": [
       "<Figure size 432x288 with 1 Axes>"
      ]
     },
     "metadata": {
      "needs_background": "light"
     },
     "output_type": "display_data"
    }
   ],
   "source": [
    "fig,ax=plt.subplots()\n",
    "plots=sb.barplot(x=list(AgeGroup.keys()),y=list(AgeGroup.values()))\n",
    "for bar in plots.patches:\n",
    "    plots.annotate(format(bar.get_height(), '.2f'),\n",
    "                   (bar.get_x() + bar.get_width() / 2,\n",
    "                    bar.get_height()), ha='center', va='center',\n",
    "                   size=10, xytext=(0, 8),\n",
    "                   textcoords='offset points')\n",
    "ax.set_ylim(0,100)\n",
    "plt.title('Age Group % Buying Cars in India')\n",
    "plt.xlabel('Age Group')\n",
    "plt.show()"
   ]
  },
  {
   "cell_type": "code",
   "execution_count": 10,
   "id": "f9f14b34",
   "metadata": {},
   "outputs": [],
   "source": [
    "ds7['Car Type']='NA'"
   ]
  },
  {
   "cell_type": "code",
   "execution_count": 120,
   "id": "c8186eb2",
   "metadata": {},
   "outputs": [],
   "source": [
    "idx=ds7[(ds7['Make']=='i20') | (ds7['Make']=='Baleno')].index\n",
    "ds7.loc[idx,'Car Type']='Hatchback'\n",
    "idx=ds7[(ds7['Make']=='Ciaz') | (ds7['Make']=='City') | (ds7['Make']=='Verna')].index\n",
    "ds7.loc[idx,'Car Type']='Sedan'\n",
    "idx=ds7[(ds7['Make']=='SUV') | (ds7['Make']=='Duster') | (ds7['Make']=='Creata')].index\n",
    "ds7.loc[idx,'Car Type']='SUV'\n",
    "idx=ds7[(ds7['Make']=='Luxuray')].index\n",
    "ds7.loc[idx,'Car Type']='Luxuray'"
   ]
  },
  {
   "cell_type": "code",
   "execution_count": 127,
   "id": "684f35e1",
   "metadata": {},
   "outputs": [],
   "source": [
    "car_make_groupby=ds7[(ds7['Marrital Status']=='Married') & (ds7['No of Dependents']>=3)].groupby(['Make'])['Make'].count()"
   ]
  },
  {
   "cell_type": "code",
   "execution_count": 128,
   "id": "394c1885",
   "metadata": {},
   "outputs": [],
   "source": [
    "car_type_groupby=ds7[(ds7['Marrital Status']=='Married') & (ds7['No of Dependents']>=3)].groupby(['Car Type'])['Car Type'].count()"
   ]
  },
  {
   "cell_type": "code",
   "execution_count": 137,
   "id": "bdacecf0",
   "metadata": {},
   "outputs": [
    {
     "data": {
      "image/png": "[encoded data removed]",
      "text/plain": [
       "<Figure size 504x360 with 2 Axes>"
      ]
     },
     "metadata": {},
     "output_type": "display_data"
    }
   ],
   "source": [
    "fig, axes = plt.subplots(1,2,figsize=(7,5))\n",
    "axes[0].pie(list(car_make_groupby),labels=list(car_make_groupby.keys()),autopct='%.1f%%')\n",
    "axes[0].set_title('Married and No.of.Dependents>=3 \\'Car Make\\' chart')\n",
    "axes[1].pie(list(car_type_groupby),labels=list(car_type_groupby.keys()),autopct='%.1f%%')\n",
    "axes[1].set_title('Married and No.of.Dependents>=3 \\'Car Type\\' chart')\n",
    "plt.subplots_adjust(right=1.5)\n",
    "plt.show()"
   ]
  },
  {
   "cell_type": "code",
   "execution_count": 141,
   "id": "14c4e224",
   "metadata": {},
   "outputs": [
    {
     "data": {
      "image/png": "[encoded data removed]",
      "text/plain": [
       "<Figure size 504x360 with 2 Axes>"
      ]
     },
     "metadata": {},
     "output_type": "display_data"
    }
   ],
   "source": [
    "#salaried and Married vs Business and Married People Car Buying Behaviour\n",
    "fig, axes = plt.subplots(1,2,figsize=(7,5))\n",
    "plt.title('salaried and Married vs Business and Married Behaviour')\n",
    "sm=ds7[(ds7['Profession']=='Salaried') & (ds7['Marrital Status']=='Married')].groupby(['Car Type'])['Car Type'].count()\n",
    "bm=ds7[(ds7['Profession']=='Business') & (ds7['Marrital Status']=='Married')].groupby(['Car Type'])['Car Type'].count()\n",
    "axes[0].pie(list(sm),labels=list(sm.keys()),autopct='%.1f%%')\n",
    "axes[0].set_title('Salaried and Married')\n",
    "axes[1].pie(list(bm),labels=list(bm.keys()),autopct='%.1f%%')\n",
    "axes[1].set_title('Business and Married')\n",
    "plt.subplots_adjust(right=1.5)\n",
    "plt.show()"
   ]
  },
  {
   "cell_type": "code",
   "execution_count": null,
   "id": "ccf056b6",
   "metadata": {},
   "outputs": [],
   "source": [
    "ds7['Financial Status']='NA'"
   ]
  },
  {
   "cell_type": "code",
   "execution_count": 149,
   "id": "52db70e8",
   "metadata": {},
   "outputs": [
    {
     "data": {
      "text/plain": [
       "count    1.099000e+03\n",
       "mean     1.751137e+06\n",
       "std      6.420355e+05\n",
       "min      2.000000e+05\n",
       "25%      1.300000e+06\n",
       "50%      1.800000e+06\n",
       "75%      2.200000e+06\n",
       "max      3.800000e+06\n",
       "Name: Salary, dtype: float64"
      ]
     },
     "execution_count": 149,
     "metadata": {},
     "output_type": "execute_result"
    }
   ],
   "source": [
    "ds7['Salary'].describe()"
   ]
  },
  {
   "cell_type": "code",
   "execution_count": 161,
   "id": "f21b6323",
   "metadata": {},
   "outputs": [
    {
     "data": {
      "text/html": [
       "<div>\n",
       "<style scoped>\n",
       "    .dataframe tbody tr th:only-of-type {\n",
       "        vertical-align: middle;\n",
       "    }\n",
       "\n",
       "    .dataframe tbody tr th {\n",
       "        vertical-align: top;\n",
       "    }\n",
       "\n",
       "    .dataframe thead th {\n",
       "        text-align: right;\n",
       "    }\n",
       "</style>\n",
       "<table border=\"1\" class=\"dataframe\">\n",
       "  <thead>\n",
       "    <tr style=\"text-align: right;\">\n",
       "      <th></th>\n",
       "      <th>index</th>\n",
       "      <th>Age</th>\n",
       "      <th>Profession</th>\n",
       "      <th>Marrital Status</th>\n",
       "      <th>Education</th>\n",
       "      <th>No of Dependents</th>\n",
       "      <th>Personal loan</th>\n",
       "      <th>House Loan</th>\n",
       "      <th>Wife Working</th>\n",
       "      <th>Salary</th>\n",
       "      <th>Wife Salary</th>\n",
       "      <th>Total Salary</th>\n",
       "      <th>Make</th>\n",
       "      <th>Price</th>\n",
       "      <th>Car Type</th>\n",
       "      <th>Financial Condition</th>\n",
       "    </tr>\n",
       "  </thead>\n",
       "  <tbody>\n",
       "    <tr>\n",
       "      <th>46</th>\n",
       "      <td>46</td>\n",
       "      <td>36</td>\n",
       "      <td>Business</td>\n",
       "      <td>Married</td>\n",
       "      <td>Graduate</td>\n",
       "      <td>4</td>\n",
       "      <td>No</td>\n",
       "      <td>No</td>\n",
       "      <td>No</td>\n",
       "      <td>200000</td>\n",
       "      <td>0</td>\n",
       "      <td>200000</td>\n",
       "      <td>Ciaz</td>\n",
       "      <td>1100000</td>\n",
       "      <td>Sedan</td>\n",
       "      <td>Low</td>\n",
       "    </tr>\n",
       "    <tr>\n",
       "      <th>162</th>\n",
       "      <td>63</td>\n",
       "      <td>33</td>\n",
       "      <td>Business</td>\n",
       "      <td>Single</td>\n",
       "      <td>Post Graduate</td>\n",
       "      <td>1</td>\n",
       "      <td>Yes</td>\n",
       "      <td>No</td>\n",
       "      <td>m</td>\n",
       "      <td>200000</td>\n",
       "      <td>0</td>\n",
       "      <td>200000</td>\n",
       "      <td>Verna</td>\n",
       "      <td>170000</td>\n",
       "      <td>Sedan</td>\n",
       "      <td>Low</td>\n",
       "    </tr>\n",
       "    <tr>\n",
       "      <th>355</th>\n",
       "      <td>256</td>\n",
       "      <td>26</td>\n",
       "      <td>Business</td>\n",
       "      <td>Single</td>\n",
       "      <td>Graduate</td>\n",
       "      <td>0</td>\n",
       "      <td>No</td>\n",
       "      <td>No</td>\n",
       "      <td>m</td>\n",
       "      <td>200000</td>\n",
       "      <td>0</td>\n",
       "      <td>200000</td>\n",
       "      <td>Baleno</td>\n",
       "      <td>250000</td>\n",
       "      <td>Hatchback</td>\n",
       "      <td>Low</td>\n",
       "    </tr>\n",
       "    <tr>\n",
       "      <th>592</th>\n",
       "      <td>493</td>\n",
       "      <td>27</td>\n",
       "      <td>Business</td>\n",
       "      <td>Single</td>\n",
       "      <td>Graduate</td>\n",
       "      <td>2</td>\n",
       "      <td>Yes</td>\n",
       "      <td>Yes</td>\n",
       "      <td>m</td>\n",
       "      <td>200000</td>\n",
       "      <td>100000</td>\n",
       "      <td>200000</td>\n",
       "      <td>Verna</td>\n",
       "      <td>750000</td>\n",
       "      <td>Sedan</td>\n",
       "      <td>Low</td>\n",
       "    </tr>\n",
       "    <tr>\n",
       "      <th>673</th>\n",
       "      <td>574</td>\n",
       "      <td>27</td>\n",
       "      <td>Business</td>\n",
       "      <td>Married</td>\n",
       "      <td>Graduate</td>\n",
       "      <td>1</td>\n",
       "      <td>No</td>\n",
       "      <td>No</td>\n",
       "      <td>m</td>\n",
       "      <td>200000</td>\n",
       "      <td>200000</td>\n",
       "      <td>200000</td>\n",
       "      <td>City</td>\n",
       "      <td>770000</td>\n",
       "      <td>Sedan</td>\n",
       "      <td>Middle</td>\n",
       "    </tr>\n",
       "  </tbody>\n",
       "</table>\n",
       "</div>"
      ],
      "text/plain": [
       "     index  Age Profession Marrital Status      Education  No of Dependents  \\\n",
       "46      46   36   Business         Married       Graduate                 4   \n",
       "162     63   33   Business          Single  Post Graduate                 1   \n",
       "355    256   26   Business          Single       Graduate                 0   \n",
       "592    493   27   Business          Single       Graduate                 2   \n",
       "673    574   27   Business         Married       Graduate                 1   \n",
       "\n",
       "    Personal loan House Loan Wife Working  Salary  Wife Salary  Total Salary  \\\n",
       "46             No         No           No  200000            0        200000   \n",
       "162           Yes         No            m  200000            0        200000   \n",
       "355            No         No            m  200000            0        200000   \n",
       "592           Yes        Yes            m  200000       100000        200000   \n",
       "673            No         No            m  200000       200000        200000   \n",
       "\n",
       "       Make    Price   Car Type Financial Condition  \n",
       "46     Ciaz  1100000      Sedan                 Low  \n",
       "162   Verna   170000      Sedan                 Low  \n",
       "355  Baleno   250000  Hatchback                 Low  \n",
       "592   Verna   750000      Sedan                 Low  \n",
       "673    City   770000      Sedan              Middle  "
      ]
     },
     "execution_count": 161,
     "metadata": {},
     "output_type": "execute_result"
    }
   ],
   "source": [
    "ds7[(ds7['Salary']+ds7['Wife Salary'])<500000]"
   ]
  },
  {
   "cell_type": "code",
   "execution_count": 162,
   "id": "7f880eb5",
   "metadata": {},
   "outputs": [],
   "source": [
    "#Salary\n",
    "ds7.loc[ds7[(ds7['Salary']+ds7['Wife Salary'])<500000].index,'Financial Condition']='Low'\n",
    "ds7.loc[ds7[((ds7['Salary']+ds7['Wife Salary'])>=500000) & ((ds7['Salary']+ds7['Wife Salary'])<=1800000)].index,'Financial Condition']='Middle'\n",
    "ds7.loc[ds7[((ds7['Salary']+ds7['Wife Salary'])>1800000)].index,'Financial Condition']='High'"
   ]
  },
  {
   "cell_type": "code",
   "execution_count": 163,
   "id": "d8c201be",
   "metadata": {},
   "outputs": [
    {
     "data": {
      "image/png": "[encoded data removed]",
      "text/plain": [
       "<Figure size 360x432 with 3 Axes>"
      ]
     },
     "metadata": {},
     "output_type": "display_data"
    }
   ],
   "source": [
    "fig, axes = plt.subplots(1,3,figsize=(5,6))\n",
    "fl=ds7[ds7['Financial Condition']=='Low'].groupby('Car Type')['Car Type'].count()\n",
    "fm=ds7[ds7['Financial Condition']=='Middle'].groupby('Car Type')['Car Type'].count()\n",
    "fh=ds7[ds7['Financial Condition']=='High'].groupby('Car Type')['Car Type'].count()\n",
    "axes[0].pie(list(fl),labels=list(fl.keys()),autopct='%.1f%%')\n",
    "axes[0].set_title('Financial Status=\\'Low\\' Car Buying Behaviour')\n",
    "axes[1].pie(list(fm),labels=list(fm.keys()),autopct='%.1f%%')\n",
    "axes[1].set_title('Financial Status=\\'Middle\\' Car Buying Behaviour')\n",
    "axes[2].pie(list(fh),labels=list(fh.keys()),autopct='%.1f%%')\n",
    "axes[2].set_title('Financial Status=\\'High\\' Car Buying Behaviour')\n",
    "plt.subplots_adjust(right=2.7)\n",
    "plt.show()"
   ]
  },
  {
   "cell_type": "code",
   "execution_count": 158,
   "id": "0d4d4005",
   "metadata": {},
   "outputs": [
    {
     "data": {
      "text/html": [
       "<div>\n",
       "<style scoped>\n",
       "    .dataframe tbody tr th:only-of-type {\n",
       "        vertical-align: middle;\n",
       "    }\n",
       "\n",
       "    .dataframe tbody tr th {\n",
       "        vertical-align: top;\n",
       "    }\n",
       "\n",
       "    .dataframe thead th {\n",
       "        text-align: right;\n",
       "    }\n",
       "</style>\n",
       "<table border=\"1\" class=\"dataframe\">\n",
       "  <thead>\n",
       "    <tr style=\"text-align: right;\">\n",
       "      <th></th>\n",
       "      <th>index</th>\n",
       "      <th>Age</th>\n",
       "      <th>Profession</th>\n",
       "      <th>Marrital Status</th>\n",
       "      <th>Education</th>\n",
       "      <th>No of Dependents</th>\n",
       "      <th>Personal loan</th>\n",
       "      <th>House Loan</th>\n",
       "      <th>Wife Working</th>\n",
       "      <th>Salary</th>\n",
       "      <th>Wife Salary</th>\n",
       "      <th>Total Salary</th>\n",
       "      <th>Make</th>\n",
       "      <th>Price</th>\n",
       "      <th>Car Type</th>\n",
       "      <th>Financial Condition</th>\n",
       "    </tr>\n",
       "  </thead>\n",
       "  <tbody>\n",
       "    <tr>\n",
       "      <th>0</th>\n",
       "      <td>0</td>\n",
       "      <td>27</td>\n",
       "      <td>Salaried</td>\n",
       "      <td>Single</td>\n",
       "      <td>Post Graduate</td>\n",
       "      <td>0</td>\n",
       "      <td>Yes</td>\n",
       "      <td>No</td>\n",
       "      <td>No</td>\n",
       "      <td>800000</td>\n",
       "      <td>0</td>\n",
       "      <td>800000</td>\n",
       "      <td>i20</td>\n",
       "      <td>800000</td>\n",
       "      <td>Hatchback</td>\n",
       "      <td>Middle</td>\n",
       "    </tr>\n",
       "    <tr>\n",
       "      <th>1</th>\n",
       "      <td>1</td>\n",
       "      <td>35</td>\n",
       "      <td>Salaried</td>\n",
       "      <td>Married</td>\n",
       "      <td>Post Graduate</td>\n",
       "      <td>2</td>\n",
       "      <td>Yes</td>\n",
       "      <td>Yes</td>\n",
       "      <td>Yes</td>\n",
       "      <td>1400000</td>\n",
       "      <td>600000</td>\n",
       "      <td>2000000</td>\n",
       "      <td>Ciaz</td>\n",
       "      <td>1000000</td>\n",
       "      <td>Sedan</td>\n",
       "      <td>Middle</td>\n",
       "    </tr>\n",
       "    <tr>\n",
       "      <th>2</th>\n",
       "      <td>2</td>\n",
       "      <td>45</td>\n",
       "      <td>Business</td>\n",
       "      <td>Married</td>\n",
       "      <td>Graduate</td>\n",
       "      <td>4</td>\n",
       "      <td>Yes</td>\n",
       "      <td>Yes</td>\n",
       "      <td>No</td>\n",
       "      <td>1800000</td>\n",
       "      <td>0</td>\n",
       "      <td>1800000</td>\n",
       "      <td>Duster</td>\n",
       "      <td>1200000</td>\n",
       "      <td>SUV</td>\n",
       "      <td>Middle</td>\n",
       "    </tr>\n",
       "    <tr>\n",
       "      <th>3</th>\n",
       "      <td>3</td>\n",
       "      <td>41</td>\n",
       "      <td>Business</td>\n",
       "      <td>Married</td>\n",
       "      <td>Post Graduate</td>\n",
       "      <td>3</td>\n",
       "      <td>No</td>\n",
       "      <td>No</td>\n",
       "      <td>Yes</td>\n",
       "      <td>1600000</td>\n",
       "      <td>600000</td>\n",
       "      <td>2200000</td>\n",
       "      <td>City</td>\n",
       "      <td>1200000</td>\n",
       "      <td>Sedan</td>\n",
       "      <td>Middle</td>\n",
       "    </tr>\n",
       "    <tr>\n",
       "      <th>4</th>\n",
       "      <td>4</td>\n",
       "      <td>31</td>\n",
       "      <td>Salaried</td>\n",
       "      <td>Married</td>\n",
       "      <td>Post Graduate</td>\n",
       "      <td>2</td>\n",
       "      <td>Yes</td>\n",
       "      <td>No</td>\n",
       "      <td>Yes</td>\n",
       "      <td>1800000</td>\n",
       "      <td>800000</td>\n",
       "      <td>2600000</td>\n",
       "      <td>SUV</td>\n",
       "      <td>1600000</td>\n",
       "      <td>SUV</td>\n",
       "      <td>Middle</td>\n",
       "    </tr>\n",
       "  </tbody>\n",
       "</table>\n",
       "</div>"
      ],
      "text/plain": [
       "   index  Age Profession Marrital Status      Education  No of Dependents  \\\n",
       "0      0   27   Salaried          Single  Post Graduate                 0   \n",
       "1      1   35   Salaried         Married  Post Graduate                 2   \n",
       "2      2   45   Business         Married       Graduate                 4   \n",
       "3      3   41   Business         Married  Post Graduate                 3   \n",
       "4      4   31   Salaried         Married  Post Graduate                 2   \n",
       "\n",
       "  Personal loan House Loan Wife Working   Salary  Wife Salary  Total Salary  \\\n",
       "0           Yes         No           No   800000            0        800000   \n",
       "1           Yes        Yes          Yes  1400000       600000       2000000   \n",
       "2           Yes        Yes           No  1800000            0       1800000   \n",
       "3            No         No          Yes  1600000       600000       2200000   \n",
       "4           Yes         No          Yes  1800000       800000       2600000   \n",
       "\n",
       "     Make    Price   Car Type Financial Condition  \n",
       "0     i20   800000  Hatchback              Middle  \n",
       "1    Ciaz  1000000      Sedan              Middle  \n",
       "2  Duster  1200000        SUV              Middle  \n",
       "3    City  1200000      Sedan              Middle  \n",
       "4     SUV  1600000        SUV              Middle  "
      ]
     },
     "execution_count": 158,
     "metadata": {},
     "output_type": "execute_result"
    }
   ],
   "source": [
    "ds7.head()"
   ]
  }
 ],
 "metadata": {
  "kernelspec": {
   "display_name": "Python 3",
   "language": "python",
   "name": "python3"
  },
  "language_info": {
   "codemirror_mode": {
    "name": "ipython",
    "version": 3
   },
   "file_extension": ".py",
   "mimetype": "text/x-python",
   "name": "python",
   "nbconvert_exporter": "python",
   "pygments_lexer": "ipython3",
   "version": "3.8.8"
  }
 },
 "nbformat": 4,
 "nbformat_minor": 5
}
