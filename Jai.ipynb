{
 "cells": [
  {
   "cell_type": "code",
   "execution_count": 2,
   "id": "a9092430",
   "metadata": {},
   "outputs": [],
   "source": [
    "import pandas as pd\n",
    "import seaborn as sb\n",
    "import matplotlib.pyplot as plt"
   ]
  },
  {
   "cell_type": "code",
   "execution_count": 3,
   "id": "6eb6643c",
   "metadata": {},
   "outputs": [],
   "source": [
    "df_norm = pd.read_csv('ElectricCarData_Norm.csv')\n",
    "df_ev_ind = pd.read_csv('EVIndia.csv')\n",
    "df_2384 = pd.read_csv('RS_Session_254_AU_2384.C.i.csv')\n",
    "df_697 = pd.read_csv('RS_Session_254_AU_697_1.csv')\n",
    "df_2349 = pd.read_csv('RS_Session_255_AU_2349_1.csv')\n",
    "df_beh = pd.read_csv('Indian automoble buying behavour study 1.0.csv')"
   ]
  },
  {
   "cell_type": "markdown",
   "id": "38be03a3",
   "metadata": {},
   "source": [
    "# EDA FOR DATASET 2384"
   ]
  },
  {
   "cell_type": "code",
   "execution_count": 4,
   "id": "d490cad2",
   "metadata": {},
   "outputs": [
    {
     "data": {
      "text/plain": [
       "(27, 4)"
      ]
     },
     "execution_count": 4,
     "metadata": {},
     "output_type": "execute_result"
    }
   ],
   "source": [
    "df_2384.shape"
   ]
  },
  {
   "cell_type": "code",
   "execution_count": 5,
   "id": "e2e54274",
   "metadata": {},
   "outputs": [
    {
     "data": {
      "text/html": [
       "<div>\n",
       "<style scoped>\n",
       "    .dataframe tbody tr th:only-of-type {\n",
       "        vertical-align: middle;\n",
       "    }\n",
       "\n",
       "    .dataframe tbody tr th {\n",
       "        vertical-align: top;\n",
       "    }\n",
       "\n",
       "    .dataframe thead th {\n",
       "        text-align: right;\n",
       "    }\n",
       "</style>\n",
       "<table border=\"1\" class=\"dataframe\">\n",
       "  <thead>\n",
       "    <tr style=\"text-align: right;\">\n",
       "      <th></th>\n",
       "      <th>Sl. No.</th>\n",
       "      <th>Category</th>\n",
       "      <th>Vehicle Class</th>\n",
       "      <th>Total Registered on VAHAN 4.0</th>\n",
       "    </tr>\n",
       "  </thead>\n",
       "  <tbody>\n",
       "    <tr>\n",
       "      <th>0</th>\n",
       "      <td>1</td>\n",
       "      <td>Transport Vehicles</td>\n",
       "      <td>Motor Cycle/Scooter-SideCar (T)</td>\n",
       "      <td>8</td>\n",
       "    </tr>\n",
       "    <tr>\n",
       "      <th>1</th>\n",
       "      <td>2</td>\n",
       "      <td>Transport Vehicles</td>\n",
       "      <td>Motor Cycle/Scooter-Used For Hire</td>\n",
       "      <td>4468</td>\n",
       "    </tr>\n",
       "    <tr>\n",
       "      <th>2</th>\n",
       "      <td>3</td>\n",
       "      <td>Transport Vehicles</td>\n",
       "      <td>E-Rickshaw (P)</td>\n",
       "      <td>495781</td>\n",
       "    </tr>\n",
       "    <tr>\n",
       "      <th>3</th>\n",
       "      <td>4</td>\n",
       "      <td>Transport Vehicles</td>\n",
       "      <td>E-Rickshaw with Cart (G)</td>\n",
       "      <td>21871</td>\n",
       "    </tr>\n",
       "    <tr>\n",
       "      <th>4</th>\n",
       "      <td>5</td>\n",
       "      <td>Transport Vehicles</td>\n",
       "      <td>Three Wheeler (Goods)</td>\n",
       "      <td>2630</td>\n",
       "    </tr>\n",
       "    <tr>\n",
       "      <th>5</th>\n",
       "      <td>6</td>\n",
       "      <td>Transport Vehicles</td>\n",
       "      <td>Three Wheeler (Passenger)</td>\n",
       "      <td>18268</td>\n",
       "    </tr>\n",
       "    <tr>\n",
       "      <th>6</th>\n",
       "      <td>7</td>\n",
       "      <td>Transport Vehicles</td>\n",
       "      <td>Luxury Cab</td>\n",
       "      <td>70</td>\n",
       "    </tr>\n",
       "    <tr>\n",
       "      <th>7</th>\n",
       "      <td>8</td>\n",
       "      <td>Transport Vehicles</td>\n",
       "      <td>Maxi Cab</td>\n",
       "      <td>158</td>\n",
       "    </tr>\n",
       "    <tr>\n",
       "      <th>8</th>\n",
       "      <td>9</td>\n",
       "      <td>Transport Vehicles</td>\n",
       "      <td>Motor Cab</td>\n",
       "      <td>3267</td>\n",
       "    </tr>\n",
       "    <tr>\n",
       "      <th>9</th>\n",
       "      <td>10</td>\n",
       "      <td>Transport Vehicles</td>\n",
       "      <td>Omni Bus</td>\n",
       "      <td>65</td>\n",
       "    </tr>\n",
       "    <tr>\n",
       "      <th>10</th>\n",
       "      <td>11</td>\n",
       "      <td>Transport Vehicles</td>\n",
       "      <td>Bus</td>\n",
       "      <td>1298</td>\n",
       "    </tr>\n",
       "    <tr>\n",
       "      <th>11</th>\n",
       "      <td>12</td>\n",
       "      <td>Transport Vehicles</td>\n",
       "      <td>Educational Institution Bus</td>\n",
       "      <td>9</td>\n",
       "    </tr>\n",
       "    <tr>\n",
       "      <th>12</th>\n",
       "      <td>13</td>\n",
       "      <td>Transport Vehicles</td>\n",
       "      <td>Goods Carrier</td>\n",
       "      <td>2591</td>\n",
       "    </tr>\n",
       "    <tr>\n",
       "      <th>13</th>\n",
       "      <td>14</td>\n",
       "      <td>Transport Vehicles</td>\n",
       "      <td>Private Service Vehicle</td>\n",
       "      <td>7</td>\n",
       "    </tr>\n",
       "    <tr>\n",
       "      <th>14</th>\n",
       "      <td>Grand Total</td>\n",
       "      <td>Transport Vehicles</td>\n",
       "      <td>Grand Total</td>\n",
       "      <td>550491</td>\n",
       "    </tr>\n",
       "    <tr>\n",
       "      <th>15</th>\n",
       "      <td>1</td>\n",
       "      <td>Non-Transport Vehicles</td>\n",
       "      <td>M-Cycle/Scooter</td>\n",
       "      <td>135691</td>\n",
       "    </tr>\n",
       "    <tr>\n",
       "      <th>16</th>\n",
       "      <td>2</td>\n",
       "      <td>Non-Transport Vehicles</td>\n",
       "      <td>M-Cycle/Scooter-With Side Car</td>\n",
       "      <td>121</td>\n",
       "    </tr>\n",
       "    <tr>\n",
       "      <th>17</th>\n",
       "      <td>3</td>\n",
       "      <td>Non-Transport Vehicles</td>\n",
       "      <td>Motorised Cycle (CC &gt; 25cc)</td>\n",
       "      <td>4246</td>\n",
       "    </tr>\n",
       "    <tr>\n",
       "      <th>18</th>\n",
       "      <td>4</td>\n",
       "      <td>Non-Transport Vehicles</td>\n",
       "      <td>Moped</td>\n",
       "      <td>13001</td>\n",
       "    </tr>\n",
       "    <tr>\n",
       "      <th>19</th>\n",
       "      <td>5</td>\n",
       "      <td>Non-Transport Vehicles</td>\n",
       "      <td>Motor Car</td>\n",
       "      <td>15700</td>\n",
       "    </tr>\n",
       "    <tr>\n",
       "      <th>20</th>\n",
       "      <td>6</td>\n",
       "      <td>Non-Transport Vehicles</td>\n",
       "      <td>Adapted Vehicle</td>\n",
       "      <td>62</td>\n",
       "    </tr>\n",
       "    <tr>\n",
       "      <th>21</th>\n",
       "      <td>7</td>\n",
       "      <td>Non-Transport Vehicles</td>\n",
       "      <td>Three Wheeler (Personal)</td>\n",
       "      <td>300</td>\n",
       "    </tr>\n",
       "    <tr>\n",
       "      <th>22</th>\n",
       "      <td>8</td>\n",
       "      <td>Non-Transport Vehicles</td>\n",
       "      <td>Omni Bus (Private Use)</td>\n",
       "      <td>14</td>\n",
       "    </tr>\n",
       "    <tr>\n",
       "      <th>23</th>\n",
       "      <td>9</td>\n",
       "      <td>Non-Transport Vehicles</td>\n",
       "      <td>Private Service Vehicle (Individual Use)</td>\n",
       "      <td>11</td>\n",
       "    </tr>\n",
       "    <tr>\n",
       "      <th>24</th>\n",
       "      <td>10</td>\n",
       "      <td>Non-Transport Vehicles</td>\n",
       "      <td>Construction Equipment Vehicle</td>\n",
       "      <td>489</td>\n",
       "    </tr>\n",
       "    <tr>\n",
       "      <th>25</th>\n",
       "      <td>11</td>\n",
       "      <td>Non-Transport Vehicles</td>\n",
       "      <td>Fork Lift</td>\n",
       "      <td>334</td>\n",
       "    </tr>\n",
       "    <tr>\n",
       "      <th>26</th>\n",
       "      <td>Grand Total</td>\n",
       "      <td>Non-Transport Vehicles</td>\n",
       "      <td>Grand Total</td>\n",
       "      <td>169969</td>\n",
       "    </tr>\n",
       "  </tbody>\n",
       "</table>\n",
       "</div>"
      ],
      "text/plain": [
       "        Sl. No.                Category  \\\n",
       "0             1     Transport Vehicles    \n",
       "1             2     Transport Vehicles    \n",
       "2             3     Transport Vehicles    \n",
       "3             4     Transport Vehicles    \n",
       "4             5     Transport Vehicles    \n",
       "5             6     Transport Vehicles    \n",
       "6             7     Transport Vehicles    \n",
       "7             8     Transport Vehicles    \n",
       "8             9     Transport Vehicles    \n",
       "9            10     Transport Vehicles    \n",
       "10           11     Transport Vehicles    \n",
       "11           12     Transport Vehicles    \n",
       "12           13     Transport Vehicles    \n",
       "13           14     Transport Vehicles    \n",
       "14  Grand Total     Transport Vehicles    \n",
       "15            1  Non-Transport Vehicles   \n",
       "16            2  Non-Transport Vehicles   \n",
       "17            3  Non-Transport Vehicles   \n",
       "18            4  Non-Transport Vehicles   \n",
       "19            5  Non-Transport Vehicles   \n",
       "20            6  Non-Transport Vehicles   \n",
       "21            7  Non-Transport Vehicles   \n",
       "22            8  Non-Transport Vehicles   \n",
       "23            9  Non-Transport Vehicles   \n",
       "24           10  Non-Transport Vehicles   \n",
       "25           11  Non-Transport Vehicles   \n",
       "26  Grand Total  Non-Transport Vehicles   \n",
       "\n",
       "                               Vehicle Class  Total Registered on VAHAN 4.0  \n",
       "0            Motor Cycle/Scooter-SideCar (T)                              8  \n",
       "1          Motor Cycle/Scooter-Used For Hire                           4468  \n",
       "2                             E-Rickshaw (P)                         495781  \n",
       "3                   E-Rickshaw with Cart (G)                          21871  \n",
       "4                      Three Wheeler (Goods)                           2630  \n",
       "5                  Three Wheeler (Passenger)                          18268  \n",
       "6                                 Luxury Cab                             70  \n",
       "7                                   Maxi Cab                            158  \n",
       "8                                  Motor Cab                           3267  \n",
       "9                                   Omni Bus                             65  \n",
       "10                                       Bus                           1298  \n",
       "11               Educational Institution Bus                              9  \n",
       "12                             Goods Carrier                           2591  \n",
       "13                   Private Service Vehicle                              7  \n",
       "14                               Grand Total                         550491  \n",
       "15                           M-Cycle/Scooter                         135691  \n",
       "16             M-Cycle/Scooter-With Side Car                            121  \n",
       "17               Motorised Cycle (CC > 25cc)                           4246  \n",
       "18                                     Moped                          13001  \n",
       "19                                 Motor Car                          15700  \n",
       "20                           Adapted Vehicle                             62  \n",
       "21                  Three Wheeler (Personal)                            300  \n",
       "22                    Omni Bus (Private Use)                             14  \n",
       "23  Private Service Vehicle (Individual Use)                             11  \n",
       "24            Construction Equipment Vehicle                            489  \n",
       "25                                 Fork Lift                            334  \n",
       "26                               Grand Total                         169969  "
      ]
     },
     "execution_count": 5,
     "metadata": {},
     "output_type": "execute_result"
    }
   ],
   "source": [
    "df_2384.head(27)"
   ]
  },
  {
   "cell_type": "code",
   "execution_count": 6,
   "id": "951b4cf5",
   "metadata": {},
   "outputs": [],
   "source": [
    "#THE ABOVE DATA SET HAS TWO PORTIONS, 1) Transport Vehicles & 2) Non-Transport Vehicles, split this dataset into two"
   ]
  },
  {
   "cell_type": "code",
   "execution_count": 7,
   "id": "fdb61353",
   "metadata": {},
   "outputs": [
    {
     "data": {
      "text/plain": [
       "(14, 4)"
      ]
     },
     "execution_count": 7,
     "metadata": {},
     "output_type": "execute_result"
    }
   ],
   "source": [
    "df_2384_TV = df_2384.loc[0:13]\n",
    "df_2384_TV.shape"
   ]
  },
  {
   "cell_type": "code",
   "execution_count": 8,
   "id": "ab38bf8c",
   "metadata": {},
   "outputs": [
    {
     "data": {
      "text/html": [
       "<div>\n",
       "<style scoped>\n",
       "    .dataframe tbody tr th:only-of-type {\n",
       "        vertical-align: middle;\n",
       "    }\n",
       "\n",
       "    .dataframe tbody tr th {\n",
       "        vertical-align: top;\n",
       "    }\n",
       "\n",
       "    .dataframe thead th {\n",
       "        text-align: right;\n",
       "    }\n",
       "</style>\n",
       "<table border=\"1\" class=\"dataframe\">\n",
       "  <thead>\n",
       "    <tr style=\"text-align: right;\">\n",
       "      <th></th>\n",
       "      <th>Sl. No.</th>\n",
       "      <th>Category</th>\n",
       "      <th>Vehicle Class</th>\n",
       "      <th>Total Registered on VAHAN 4.0</th>\n",
       "    </tr>\n",
       "  </thead>\n",
       "  <tbody>\n",
       "    <tr>\n",
       "      <th>0</th>\n",
       "      <td>1</td>\n",
       "      <td>Transport Vehicles</td>\n",
       "      <td>Motor Cycle/Scooter-SideCar (T)</td>\n",
       "      <td>8</td>\n",
       "    </tr>\n",
       "    <tr>\n",
       "      <th>1</th>\n",
       "      <td>2</td>\n",
       "      <td>Transport Vehicles</td>\n",
       "      <td>Motor Cycle/Scooter-Used For Hire</td>\n",
       "      <td>4468</td>\n",
       "    </tr>\n",
       "    <tr>\n",
       "      <th>2</th>\n",
       "      <td>3</td>\n",
       "      <td>Transport Vehicles</td>\n",
       "      <td>E-Rickshaw (P)</td>\n",
       "      <td>495781</td>\n",
       "    </tr>\n",
       "    <tr>\n",
       "      <th>3</th>\n",
       "      <td>4</td>\n",
       "      <td>Transport Vehicles</td>\n",
       "      <td>E-Rickshaw with Cart (G)</td>\n",
       "      <td>21871</td>\n",
       "    </tr>\n",
       "    <tr>\n",
       "      <th>4</th>\n",
       "      <td>5</td>\n",
       "      <td>Transport Vehicles</td>\n",
       "      <td>Three Wheeler (Goods)</td>\n",
       "      <td>2630</td>\n",
       "    </tr>\n",
       "  </tbody>\n",
       "</table>\n",
       "</div>"
      ],
      "text/plain": [
       "  Sl. No.             Category                      Vehicle Class  \\\n",
       "0       1  Transport Vehicles     Motor Cycle/Scooter-SideCar (T)   \n",
       "1       2  Transport Vehicles   Motor Cycle/Scooter-Used For Hire   \n",
       "2       3  Transport Vehicles                      E-Rickshaw (P)   \n",
       "3       4  Transport Vehicles            E-Rickshaw with Cart (G)   \n",
       "4       5  Transport Vehicles               Three Wheeler (Goods)   \n",
       "\n",
       "   Total Registered on VAHAN 4.0  \n",
       "0                              8  \n",
       "1                           4468  \n",
       "2                         495781  \n",
       "3                          21871  \n",
       "4                           2630  "
      ]
     },
     "execution_count": 8,
     "metadata": {},
     "output_type": "execute_result"
    }
   ],
   "source": [
    "df_2384_TV.head()"
   ]
  },
  {
   "cell_type": "code",
   "execution_count": 9,
   "id": "0a9cff12",
   "metadata": {},
   "outputs": [
    {
     "data": {
      "image/png": "[encoded data removed]",
      "text/plain": [
       "<Figure size 432x288 with 1 Axes>"
      ]
     },
     "metadata": {},
     "output_type": "display_data"
    }
   ],
   "source": [
    "plt.pie(df_2384_TV[\"Total Registered on VAHAN 4.0\"], labels = df_2384_TV[\"Vehicle Class\"], autopct='%.0f%%')\n",
    "plt.show()"
   ]
  },
  {
   "cell_type": "code",
   "execution_count": 10,
   "id": "2790b471",
   "metadata": {},
   "outputs": [],
   "source": [
    "# IT IS CLEARLY SEEN THAT MOST OF THE TRANSPORT VEHICLES(ALMOST 90% = 4.95L out of 5.5L) ARE \"E-Rickshaw (P)\""
   ]
  },
  {
   "cell_type": "code",
   "execution_count": 11,
   "id": "3204c2a4",
   "metadata": {},
   "outputs": [
    {
     "data": {
      "text/plain": [
       "(11, 4)"
      ]
     },
     "execution_count": 11,
     "metadata": {},
     "output_type": "execute_result"
    }
   ],
   "source": [
    "df_2384_NTV = df_2384.loc[15:25]\n",
    "df_2384_NTV.shape"
   ]
  },
  {
   "cell_type": "code",
   "execution_count": 12,
   "id": "0561876d",
   "metadata": {},
   "outputs": [
    {
     "data": {
      "text/html": [
       "<div>\n",
       "<style scoped>\n",
       "    .dataframe tbody tr th:only-of-type {\n",
       "        vertical-align: middle;\n",
       "    }\n",
       "\n",
       "    .dataframe tbody tr th {\n",
       "        vertical-align: top;\n",
       "    }\n",
       "\n",
       "    .dataframe thead th {\n",
       "        text-align: right;\n",
       "    }\n",
       "</style>\n",
       "<table border=\"1\" class=\"dataframe\">\n",
       "  <thead>\n",
       "    <tr style=\"text-align: right;\">\n",
       "      <th></th>\n",
       "      <th>Sl. No.</th>\n",
       "      <th>Category</th>\n",
       "      <th>Vehicle Class</th>\n",
       "      <th>Total Registered on VAHAN 4.0</th>\n",
       "    </tr>\n",
       "  </thead>\n",
       "  <tbody>\n",
       "    <tr>\n",
       "      <th>15</th>\n",
       "      <td>1</td>\n",
       "      <td>Non-Transport Vehicles</td>\n",
       "      <td>M-Cycle/Scooter</td>\n",
       "      <td>135691</td>\n",
       "    </tr>\n",
       "    <tr>\n",
       "      <th>16</th>\n",
       "      <td>2</td>\n",
       "      <td>Non-Transport Vehicles</td>\n",
       "      <td>M-Cycle/Scooter-With Side Car</td>\n",
       "      <td>121</td>\n",
       "    </tr>\n",
       "    <tr>\n",
       "      <th>17</th>\n",
       "      <td>3</td>\n",
       "      <td>Non-Transport Vehicles</td>\n",
       "      <td>Motorised Cycle (CC &gt; 25cc)</td>\n",
       "      <td>4246</td>\n",
       "    </tr>\n",
       "    <tr>\n",
       "      <th>18</th>\n",
       "      <td>4</td>\n",
       "      <td>Non-Transport Vehicles</td>\n",
       "      <td>Moped</td>\n",
       "      <td>13001</td>\n",
       "    </tr>\n",
       "    <tr>\n",
       "      <th>19</th>\n",
       "      <td>5</td>\n",
       "      <td>Non-Transport Vehicles</td>\n",
       "      <td>Motor Car</td>\n",
       "      <td>15700</td>\n",
       "    </tr>\n",
       "  </tbody>\n",
       "</table>\n",
       "</div>"
      ],
      "text/plain": [
       "   Sl. No.                Category                  Vehicle Class  \\\n",
       "15       1  Non-Transport Vehicles                M-Cycle/Scooter   \n",
       "16       2  Non-Transport Vehicles  M-Cycle/Scooter-With Side Car   \n",
       "17       3  Non-Transport Vehicles    Motorised Cycle (CC > 25cc)   \n",
       "18       4  Non-Transport Vehicles                          Moped   \n",
       "19       5  Non-Transport Vehicles                      Motor Car   \n",
       "\n",
       "    Total Registered on VAHAN 4.0  \n",
       "15                         135691  \n",
       "16                            121  \n",
       "17                           4246  \n",
       "18                          13001  \n",
       "19                          15700  "
      ]
     },
     "execution_count": 12,
     "metadata": {},
     "output_type": "execute_result"
    }
   ],
   "source": [
    "df_2384_NTV.head()"
   ]
  },
  {
   "cell_type": "code",
   "execution_count": 13,
   "id": "544884cc",
   "metadata": {
    "scrolled": true
   },
   "outputs": [
    {
     "data": {
      "image/png": "[encoded data removed]",
      "text/plain": [
       "<Figure size 432x288 with 1 Axes>"
      ]
     },
     "metadata": {},
     "output_type": "display_data"
    }
   ],
   "source": [
    "plt.pie(df_2384_NTV[\"Total Registered on VAHAN 4.0\"], labels = df_2384_NTV[\"Vehicle Class\"], autopct='%.0f%%')\n",
    "plt.show()"
   ]
  },
  {
   "cell_type": "code",
   "execution_count": 14,
   "id": "0f8b6029",
   "metadata": {},
   "outputs": [],
   "source": [
    "# IT CAN BE CLEARLY SEEN THAT 80% ARE \"M-Cycle/Scooter\", 7.6% ARE \"Moped\" & 9.2% ARE \"Motor Car\", OTHERS ARE NEGLIGIBLE"
   ]
  },
  {
   "cell_type": "markdown",
   "id": "ef49d594",
   "metadata": {},
   "source": [
    "# EDA FOR 697"
   ]
  },
  {
   "cell_type": "code",
   "execution_count": 15,
   "id": "f9a1b6f2",
   "metadata": {},
   "outputs": [
    {
     "data": {
      "text/html": [
       "<div>\n",
       "<style scoped>\n",
       "    .dataframe tbody tr th:only-of-type {\n",
       "        vertical-align: middle;\n",
       "    }\n",
       "\n",
       "    .dataframe tbody tr th {\n",
       "        vertical-align: top;\n",
       "    }\n",
       "\n",
       "    .dataframe thead th {\n",
       "        text-align: right;\n",
       "    }\n",
       "</style>\n",
       "<table border=\"1\" class=\"dataframe\">\n",
       "  <thead>\n",
       "    <tr style=\"text-align: right;\">\n",
       "      <th></th>\n",
       "      <th>Sl. No.</th>\n",
       "      <th>State/UT</th>\n",
       "      <th>Total Number of Invoice/Sales</th>\n",
       "    </tr>\n",
       "  </thead>\n",
       "  <tbody>\n",
       "    <tr>\n",
       "      <th>32</th>\n",
       "      <td>33</td>\n",
       "      <td>Andaman and Nicobar Islands</td>\n",
       "      <td>2</td>\n",
       "    </tr>\n",
       "    <tr>\n",
       "      <th>33</th>\n",
       "      <td>34</td>\n",
       "      <td>Telangana</td>\n",
       "      <td>3031</td>\n",
       "    </tr>\n",
       "    <tr>\n",
       "      <th>34</th>\n",
       "      <td>35</td>\n",
       "      <td>Ladakh</td>\n",
       "      <td>0</td>\n",
       "    </tr>\n",
       "    <tr>\n",
       "      <th>35</th>\n",
       "      <td>36</td>\n",
       "      <td>The Dadra and Nagar Haveli and Daman and Diu</td>\n",
       "      <td>27</td>\n",
       "    </tr>\n",
       "    <tr>\n",
       "      <th>36</th>\n",
       "      <td>Total</td>\n",
       "      <td>Total</td>\n",
       "      <td>87659</td>\n",
       "    </tr>\n",
       "  </tbody>\n",
       "</table>\n",
       "</div>"
      ],
      "text/plain": [
       "   Sl. No.                                      State/UT  \\\n",
       "32      33                   Andaman and Nicobar Islands   \n",
       "33      34                                     Telangana   \n",
       "34      35                                        Ladakh   \n",
       "35      36  The Dadra and Nagar Haveli and Daman and Diu   \n",
       "36   Total                                         Total   \n",
       "\n",
       "    Total Number of Invoice/Sales  \n",
       "32                              2  \n",
       "33                           3031  \n",
       "34                              0  \n",
       "35                             27  \n",
       "36                          87659  "
      ]
     },
     "execution_count": 15,
     "metadata": {},
     "output_type": "execute_result"
    }
   ],
   "source": [
    "df_697.tail()"
   ]
  },
  {
   "cell_type": "code",
   "execution_count": 16,
   "id": "4d3aa0c8",
   "metadata": {},
   "outputs": [],
   "source": [
    "# DROP THE LAST ROW, WHICH HAS SUM OF ALL THE ROWS\n",
    "df_697.drop([35,36], axis = 0, inplace = True)"
   ]
  },
  {
   "cell_type": "code",
   "execution_count": 17,
   "id": "be93b984",
   "metadata": {},
   "outputs": [
    {
     "data": {
      "text/html": [
       "<div>\n",
       "<style scoped>\n",
       "    .dataframe tbody tr th:only-of-type {\n",
       "        vertical-align: middle;\n",
       "    }\n",
       "\n",
       "    .dataframe tbody tr th {\n",
       "        vertical-align: top;\n",
       "    }\n",
       "\n",
       "    .dataframe thead th {\n",
       "        text-align: right;\n",
       "    }\n",
       "</style>\n",
       "<table border=\"1\" class=\"dataframe\">\n",
       "  <thead>\n",
       "    <tr style=\"text-align: right;\">\n",
       "      <th></th>\n",
       "      <th>Sl. No.</th>\n",
       "      <th>State/UT</th>\n",
       "      <th>Total Number of Invoice/Sales</th>\n",
       "    </tr>\n",
       "  </thead>\n",
       "  <tbody>\n",
       "    <tr>\n",
       "      <th>30</th>\n",
       "      <td>31</td>\n",
       "      <td>Tamilnadu</td>\n",
       "      <td>13515</td>\n",
       "    </tr>\n",
       "    <tr>\n",
       "      <th>31</th>\n",
       "      <td>32</td>\n",
       "      <td>Puducherry</td>\n",
       "      <td>138</td>\n",
       "    </tr>\n",
       "    <tr>\n",
       "      <th>32</th>\n",
       "      <td>33</td>\n",
       "      <td>Andaman and Nicobar Islands</td>\n",
       "      <td>2</td>\n",
       "    </tr>\n",
       "    <tr>\n",
       "      <th>33</th>\n",
       "      <td>34</td>\n",
       "      <td>Telangana</td>\n",
       "      <td>3031</td>\n",
       "    </tr>\n",
       "    <tr>\n",
       "      <th>34</th>\n",
       "      <td>35</td>\n",
       "      <td>Ladakh</td>\n",
       "      <td>0</td>\n",
       "    </tr>\n",
       "  </tbody>\n",
       "</table>\n",
       "</div>"
      ],
      "text/plain": [
       "   Sl. No.                     State/UT  Total Number of Invoice/Sales\n",
       "30      31                    Tamilnadu                          13515\n",
       "31      32                   Puducherry                            138\n",
       "32      33  Andaman and Nicobar Islands                              2\n",
       "33      34                    Telangana                           3031\n",
       "34      35                       Ladakh                              0"
      ]
     },
     "execution_count": 17,
     "metadata": {},
     "output_type": "execute_result"
    }
   ],
   "source": [
    "df_697.tail()"
   ]
  },
  {
   "cell_type": "code",
   "execution_count": 18,
   "id": "ad698db0",
   "metadata": {},
   "outputs": [
    {
     "data": {
      "image/png": "[encoded data removed]",
      "text/plain": [
       "<Figure size 432x288 with 1 Axes>"
      ]
     },
     "metadata": {},
     "output_type": "display_data"
    }
   ],
   "source": [
    "plt.pie(df_697[\"Total Number of Invoice/Sales\"], labels = df_697[\"State/UT\"], autopct='%.0f%%')\n",
    "plt.show()"
   ]
  },
  {
   "cell_type": "code",
   "execution_count": 19,
   "id": "4c683f68",
   "metadata": {},
   "outputs": [
    {
     "data": {
      "text/html": [
       "<div>\n",
       "<style scoped>\n",
       "    .dataframe tbody tr th:only-of-type {\n",
       "        vertical-align: middle;\n",
       "    }\n",
       "\n",
       "    .dataframe tbody tr th {\n",
       "        vertical-align: top;\n",
       "    }\n",
       "\n",
       "    .dataframe thead th {\n",
       "        text-align: right;\n",
       "    }\n",
       "</style>\n",
       "<table border=\"1\" class=\"dataframe\">\n",
       "  <thead>\n",
       "    <tr style=\"text-align: right;\">\n",
       "      <th></th>\n",
       "      <th>Sl. No.</th>\n",
       "      <th>State/UT</th>\n",
       "      <th>Total Number of Invoice/Sales</th>\n",
       "    </tr>\n",
       "  </thead>\n",
       "  <tbody>\n",
       "    <tr>\n",
       "      <th>26</th>\n",
       "      <td>27</td>\n",
       "      <td>Karnataka</td>\n",
       "      <td>19270</td>\n",
       "    </tr>\n",
       "    <tr>\n",
       "      <th>30</th>\n",
       "      <td>31</td>\n",
       "      <td>Tamilnadu</td>\n",
       "      <td>13515</td>\n",
       "    </tr>\n",
       "    <tr>\n",
       "      <th>24</th>\n",
       "      <td>25</td>\n",
       "      <td>Maharashtra</td>\n",
       "      <td>9393</td>\n",
       "    </tr>\n",
       "    <tr>\n",
       "      <th>7</th>\n",
       "      <td>8</td>\n",
       "      <td>Rajasthan</td>\n",
       "      <td>6721</td>\n",
       "    </tr>\n",
       "    <tr>\n",
       "      <th>6</th>\n",
       "      <td>7</td>\n",
       "      <td>Delhi</td>\n",
       "      <td>6413</td>\n",
       "    </tr>\n",
       "    <tr>\n",
       "      <th>8</th>\n",
       "      <td>9</td>\n",
       "      <td>Uttar Pradesh</td>\n",
       "      <td>6022</td>\n",
       "    </tr>\n",
       "    <tr>\n",
       "      <th>25</th>\n",
       "      <td>26</td>\n",
       "      <td>Andhra Pradesh</td>\n",
       "      <td>3325</td>\n",
       "    </tr>\n",
       "    <tr>\n",
       "      <th>33</th>\n",
       "      <td>34</td>\n",
       "      <td>Telangana</td>\n",
       "      <td>3031</td>\n",
       "    </tr>\n",
       "    <tr>\n",
       "      <th>22</th>\n",
       "      <td>23</td>\n",
       "      <td>Madhya Pradesh</td>\n",
       "      <td>2953</td>\n",
       "    </tr>\n",
       "    <tr>\n",
       "      <th>9</th>\n",
       "      <td>10</td>\n",
       "      <td>Bihar</td>\n",
       "      <td>2615</td>\n",
       "    </tr>\n",
       "  </tbody>\n",
       "</table>\n",
       "</div>"
      ],
      "text/plain": [
       "   Sl. No.        State/UT  Total Number of Invoice/Sales\n",
       "26      27       Karnataka                          19270\n",
       "30      31       Tamilnadu                          13515\n",
       "24      25     Maharashtra                           9393\n",
       "7        8       Rajasthan                           6721\n",
       "6        7           Delhi                           6413\n",
       "8        9   Uttar Pradesh                           6022\n",
       "25      26  Andhra Pradesh                           3325\n",
       "33      34       Telangana                           3031\n",
       "22      23  Madhya Pradesh                           2953\n",
       "9       10           Bihar                           2615"
      ]
     },
     "execution_count": 19,
     "metadata": {},
     "output_type": "execute_result"
    }
   ],
   "source": [
    "df_697.loc[(df_697[\"Total Number of Invoice/Sales\"].sort_values(ascending = False).head(10) * 100 / df_697[\"Total Number of Invoice/Sales\"].sum()).index]"
   ]
  },
  {
   "cell_type": "code",
   "execution_count": 20,
   "id": "87f4c6da",
   "metadata": {},
   "outputs": [],
   "source": [
    "# TOP 10 STATES WITH HIGHEST SHARE OF EV's IS SHOWN IN THE TABLE BELOW, TOP 10 STATES CONTRIBUTE TO ~84% OF THE TOTAL"
   ]
  },
  {
   "cell_type": "markdown",
   "id": "641ebcb7",
   "metadata": {},
   "source": [
    "# EDA FOR 2349"
   ]
  },
  {
   "cell_type": "code",
   "execution_count": 21,
   "id": "de356fec",
   "metadata": {},
   "outputs": [
    {
     "data": {
      "text/html": [
       "<div>\n",
       "<style scoped>\n",
       "    .dataframe tbody tr th:only-of-type {\n",
       "        vertical-align: middle;\n",
       "    }\n",
       "\n",
       "    .dataframe tbody tr th {\n",
       "        vertical-align: top;\n",
       "    }\n",
       "\n",
       "    .dataframe thead th {\n",
       "        text-align: right;\n",
       "    }\n",
       "</style>\n",
       "<table border=\"1\" class=\"dataframe\">\n",
       "  <thead>\n",
       "    <tr style=\"text-align: right;\">\n",
       "      <th></th>\n",
       "      <th>Sl. No.</th>\n",
       "      <th>State/UT</th>\n",
       "      <th>Total Number of active Vehicle as on 08.12.2021</th>\n",
       "      <th>Total number of active Electric Vehicles as on 08.12.2021</th>\n",
       "    </tr>\n",
       "  </thead>\n",
       "  <tbody>\n",
       "    <tr>\n",
       "      <th>28</th>\n",
       "      <td>29</td>\n",
       "      <td>Dadra and Nagar Haveli and Daman and Diu</td>\n",
       "      <td>297137</td>\n",
       "      <td>123</td>\n",
       "    </tr>\n",
       "    <tr>\n",
       "      <th>29</th>\n",
       "      <td>30</td>\n",
       "      <td>Uttarakhand</td>\n",
       "      <td>3227453</td>\n",
       "      <td>23524</td>\n",
       "    </tr>\n",
       "    <tr>\n",
       "      <th>30</th>\n",
       "      <td>31</td>\n",
       "      <td>Uttar Pradesh</td>\n",
       "      <td>38628929</td>\n",
       "      <td>258105</td>\n",
       "    </tr>\n",
       "    <tr>\n",
       "      <th>31</th>\n",
       "      <td>32</td>\n",
       "      <td>West Bengal</td>\n",
       "      <td>13600830</td>\n",
       "      <td>43432</td>\n",
       "    </tr>\n",
       "    <tr>\n",
       "      <th>32</th>\n",
       "      <td>Grand Total</td>\n",
       "      <td>Grand Total</td>\n",
       "      <td>273409410</td>\n",
       "      <td>877117</td>\n",
       "    </tr>\n",
       "  </tbody>\n",
       "</table>\n",
       "</div>"
      ],
      "text/plain": [
       "        Sl. No.                                  State/UT  \\\n",
       "28           29  Dadra and Nagar Haveli and Daman and Diu   \n",
       "29           30                               Uttarakhand   \n",
       "30           31                             Uttar Pradesh   \n",
       "31           32                               West Bengal   \n",
       "32  Grand Total                               Grand Total   \n",
       "\n",
       "    Total Number of active Vehicle as on 08.12.2021  \\\n",
       "28                                           297137   \n",
       "29                                          3227453   \n",
       "30                                         38628929   \n",
       "31                                         13600830   \n",
       "32                                        273409410   \n",
       "\n",
       "    Total number of active Electric Vehicles as on 08.12.2021  \n",
       "28                                                123          \n",
       "29                                              23524          \n",
       "30                                             258105          \n",
       "31                                              43432          \n",
       "32                                             877117          "
      ]
     },
     "execution_count": 21,
     "metadata": {},
     "output_type": "execute_result"
    }
   ],
   "source": [
    "df_2349.tail()"
   ]
  },
  {
   "cell_type": "code",
   "execution_count": 22,
   "id": "bebe5d2b",
   "metadata": {},
   "outputs": [],
   "source": [
    "# DROP THE LAST ROW, WHICH HAS SUM OF ALL THE ROWS\n",
    "df_2349.drop([31,32], axis = 0, inplace = True)"
   ]
  },
  {
   "cell_type": "code",
   "execution_count": 23,
   "id": "d07c2c96",
   "metadata": {},
   "outputs": [],
   "source": [
    "# ADD PERCENT OF EV's FOR EACH STATE COMPARED TO TOTAL NUMBER OF VEHICLES"
   ]
  },
  {
   "cell_type": "code",
   "execution_count": 24,
   "id": "85bdde72",
   "metadata": {},
   "outputs": [
    {
     "data": {
      "text/html": [
       "<div>\n",
       "<style scoped>\n",
       "    .dataframe tbody tr th:only-of-type {\n",
       "        vertical-align: middle;\n",
       "    }\n",
       "\n",
       "    .dataframe tbody tr th {\n",
       "        vertical-align: top;\n",
       "    }\n",
       "\n",
       "    .dataframe thead th {\n",
       "        text-align: right;\n",
       "    }\n",
       "</style>\n",
       "<table border=\"1\" class=\"dataframe\">\n",
       "  <thead>\n",
       "    <tr style=\"text-align: right;\">\n",
       "      <th></th>\n",
       "      <th>Sl. No.</th>\n",
       "      <th>State/UT</th>\n",
       "      <th>Total Number of active Vehicle as on 08.12.2021</th>\n",
       "      <th>Total number of active Electric Vehicles as on 08.12.2021</th>\n",
       "      <th>PERCENT</th>\n",
       "    </tr>\n",
       "  </thead>\n",
       "  <tbody>\n",
       "    <tr>\n",
       "      <th>0</th>\n",
       "      <td>1</td>\n",
       "      <td>Andaman and Nicobar Island</td>\n",
       "      <td>143529</td>\n",
       "      <td>157</td>\n",
       "      <td>0.11</td>\n",
       "    </tr>\n",
       "    <tr>\n",
       "      <th>1</th>\n",
       "      <td>2</td>\n",
       "      <td>Arunachal Pradesh</td>\n",
       "      <td>235189</td>\n",
       "      <td>20</td>\n",
       "      <td>0.01</td>\n",
       "    </tr>\n",
       "    <tr>\n",
       "      <th>2</th>\n",
       "      <td>3</td>\n",
       "      <td>Assam</td>\n",
       "      <td>4445227</td>\n",
       "      <td>43707</td>\n",
       "      <td>0.98</td>\n",
       "    </tr>\n",
       "    <tr>\n",
       "      <th>3</th>\n",
       "      <td>4</td>\n",
       "      <td>Bihar</td>\n",
       "      <td>9816784</td>\n",
       "      <td>58655</td>\n",
       "      <td>0.60</td>\n",
       "    </tr>\n",
       "    <tr>\n",
       "      <th>4</th>\n",
       "      <td>5</td>\n",
       "      <td>Chandigarh</td>\n",
       "      <td>720272</td>\n",
       "      <td>1791</td>\n",
       "      <td>0.25</td>\n",
       "    </tr>\n",
       "  </tbody>\n",
       "</table>\n",
       "</div>"
      ],
      "text/plain": [
       "  Sl. No.                    State/UT  \\\n",
       "0       1  Andaman and Nicobar Island   \n",
       "1       2           Arunachal Pradesh   \n",
       "2       3                       Assam   \n",
       "3       4                       Bihar   \n",
       "4       5                  Chandigarh   \n",
       "\n",
       "   Total Number of active Vehicle as on 08.12.2021  \\\n",
       "0                                           143529   \n",
       "1                                           235189   \n",
       "2                                          4445227   \n",
       "3                                          9816784   \n",
       "4                                           720272   \n",
       "\n",
       "   Total number of active Electric Vehicles as on 08.12.2021  PERCENT  \n",
       "0                                                157             0.11  \n",
       "1                                                 20             0.01  \n",
       "2                                              43707             0.98  \n",
       "3                                              58655             0.60  \n",
       "4                                               1791             0.25  "
      ]
     },
     "execution_count": 24,
     "metadata": {},
     "output_type": "execute_result"
    }
   ],
   "source": [
    "df_2349[\"PERCENT\"] = (df_2349[\"Total number of active Electric Vehicles as on 08.12.2021\"] * 100 / df_2349[\"Total Number of active Vehicle as on 08.12.2021\"]).round(2)\n",
    "df_2349.head()"
   ]
  },
  {
   "cell_type": "code",
   "execution_count": 25,
   "id": "98f31caf",
   "metadata": {},
   "outputs": [
    {
     "data": {
      "image/png": "[encoded data removed]",
      "text/plain": [
       "<Figure size 432x288 with 1 Axes>"
      ]
     },
     "metadata": {},
     "output_type": "display_data"
    }
   ],
   "source": [
    "plt.pie(df_2349[\"Total Number of active Vehicle as on 08.12.2021\"], labels = df_2349[\"State/UT\"], autopct='%.0f%%')\n",
    "plt.show()"
   ]
  },
  {
   "cell_type": "code",
   "execution_count": 26,
   "id": "e3508b8e",
   "metadata": {},
   "outputs": [
    {
     "data": {
      "image/png": "[encoded data removed]",
      "text/plain": [
       "<Figure size 432x288 with 1 Axes>"
      ]
     },
     "metadata": {},
     "output_type": "display_data"
    }
   ],
   "source": [
    "plt.pie(df_2349[\"Total number of active Electric Vehicles as on 08.12.2021\"], labels = df_2349[\"State/UT\"], autopct='%.0f%%')\n",
    "plt.show()"
   ]
  },
  {
   "cell_type": "code",
   "execution_count": 27,
   "id": "1ddd1728",
   "metadata": {},
   "outputs": [
    {
     "data": {
      "text/html": [
       "<div>\n",
       "<style scoped>\n",
       "    .dataframe tbody tr th:only-of-type {\n",
       "        vertical-align: middle;\n",
       "    }\n",
       "\n",
       "    .dataframe tbody tr th {\n",
       "        vertical-align: top;\n",
       "    }\n",
       "\n",
       "    .dataframe thead th {\n",
       "        text-align: right;\n",
       "    }\n",
       "</style>\n",
       "<table border=\"1\" class=\"dataframe\">\n",
       "  <thead>\n",
       "    <tr style=\"text-align: right;\">\n",
       "      <th></th>\n",
       "      <th>Sl. No.</th>\n",
       "      <th>State/UT</th>\n",
       "      <th>Total Number of active Vehicle as on 08.12.2021</th>\n",
       "      <th>Total number of active Electric Vehicles as on 08.12.2021</th>\n",
       "      <th>PERCENT</th>\n",
       "    </tr>\n",
       "  </thead>\n",
       "  <tbody>\n",
       "    <tr>\n",
       "      <th>30</th>\n",
       "      <td>31</td>\n",
       "      <td>Uttar Pradesh</td>\n",
       "      <td>38628929</td>\n",
       "      <td>258105</td>\n",
       "      <td>0.67</td>\n",
       "    </tr>\n",
       "    <tr>\n",
       "      <th>16</th>\n",
       "      <td>17</td>\n",
       "      <td>Maharashtra</td>\n",
       "      <td>29777450</td>\n",
       "      <td>53159</td>\n",
       "      <td>0.18</td>\n",
       "    </tr>\n",
       "    <tr>\n",
       "      <th>26</th>\n",
       "      <td>27</td>\n",
       "      <td>Tamil Nadu</td>\n",
       "      <td>28953331</td>\n",
       "      <td>45368</td>\n",
       "      <td>0.16</td>\n",
       "    </tr>\n",
       "    <tr>\n",
       "      <th>13</th>\n",
       "      <td>14</td>\n",
       "      <td>Karnataka</td>\n",
       "      <td>26196853</td>\n",
       "      <td>72018</td>\n",
       "      <td>0.27</td>\n",
       "    </tr>\n",
       "    <tr>\n",
       "      <th>8</th>\n",
       "      <td>9</td>\n",
       "      <td>Gujarat</td>\n",
       "      <td>19780771</td>\n",
       "      <td>13270</td>\n",
       "      <td>0.07</td>\n",
       "    </tr>\n",
       "  </tbody>\n",
       "</table>\n",
       "</div>"
      ],
      "text/plain": [
       "   Sl. No.       State/UT  Total Number of active Vehicle as on 08.12.2021  \\\n",
       "30      31  Uttar Pradesh                                         38628929   \n",
       "16      17    Maharashtra                                         29777450   \n",
       "26      27     Tamil Nadu                                         28953331   \n",
       "13      14      Karnataka                                         26196853   \n",
       "8        9        Gujarat                                         19780771   \n",
       "\n",
       "    Total number of active Electric Vehicles as on 08.12.2021  PERCENT  \n",
       "30                                             258105             0.67  \n",
       "16                                              53159             0.18  \n",
       "26                                              45368             0.16  \n",
       "13                                              72018             0.27  \n",
       "8                                               13270             0.07  "
      ]
     },
     "execution_count": 27,
     "metadata": {},
     "output_type": "execute_result"
    }
   ],
   "source": [
    "df_2349.loc[df_2349[\"Total Number of active Vehicle as on 08.12.2021\"].sort_values(ascending=False).head().index]"
   ]
  },
  {
   "cell_type": "code",
   "execution_count": 28,
   "id": "6a9ecdb7",
   "metadata": {},
   "outputs": [],
   "source": [
    "# OF THE FIRST 5 STATES CONTRIBUTING TO MAXIMUM NUMBER OF TOTAL NO OF VEHICLES, Uttar Pradesh HAS HIGHEST RATIO (0.67%) OF EV's"
   ]
  },
  {
   "cell_type": "markdown",
   "id": "4696e29d",
   "metadata": {},
   "source": [
    "# EDA FOR ElectricCarData_Norm"
   ]
  },
  {
   "cell_type": "code",
   "execution_count": 29,
   "id": "212be048",
   "metadata": {},
   "outputs": [
    {
     "data": {
      "text/plain": [
       "(103, 14)"
      ]
     },
     "execution_count": 29,
     "metadata": {},
     "output_type": "execute_result"
    }
   ],
   "source": [
    "df_norm.shape"
   ]
  },
  {
   "cell_type": "code",
   "execution_count": 30,
   "id": "21fc6573",
   "metadata": {},
   "outputs": [
    {
     "data": {
      "text/html": [
       "<div>\n",
       "<style scoped>\n",
       "    .dataframe tbody tr th:only-of-type {\n",
       "        vertical-align: middle;\n",
       "    }\n",
       "\n",
       "    .dataframe tbody tr th {\n",
       "        vertical-align: top;\n",
       "    }\n",
       "\n",
       "    .dataframe thead th {\n",
       "        text-align: right;\n",
       "    }\n",
       "</style>\n",
       "<table border=\"1\" class=\"dataframe\">\n",
       "  <thead>\n",
       "    <tr style=\"text-align: right;\">\n",
       "      <th></th>\n",
       "      <th>Brand</th>\n",
       "      <th>Model</th>\n",
       "      <th>Accel</th>\n",
       "      <th>TopSpeed</th>\n",
       "      <th>Range</th>\n",
       "      <th>Efficiency</th>\n",
       "      <th>FastCharge</th>\n",
       "      <th>RapidCharge</th>\n",
       "      <th>PowerTrain</th>\n",
       "      <th>PlugType</th>\n",
       "      <th>BodyStyle</th>\n",
       "      <th>Segment</th>\n",
       "      <th>Seats</th>\n",
       "      <th>PriceEuro</th>\n",
       "    </tr>\n",
       "  </thead>\n",
       "  <tbody>\n",
       "    <tr>\n",
       "      <th>0</th>\n",
       "      <td>Tesla</td>\n",
       "      <td>Model 3 Long Range Dual Motor</td>\n",
       "      <td>4.6 sec</td>\n",
       "      <td>233 km/h</td>\n",
       "      <td>450 km</td>\n",
       "      <td>161 Wh/km</td>\n",
       "      <td>940 km/h</td>\n",
       "      <td>Rapid charging possible</td>\n",
       "      <td>All Wheel Drive</td>\n",
       "      <td>Type 2 CCS</td>\n",
       "      <td>Sedan</td>\n",
       "      <td>D</td>\n",
       "      <td>5</td>\n",
       "      <td>55480</td>\n",
       "    </tr>\n",
       "    <tr>\n",
       "      <th>1</th>\n",
       "      <td>Volkswagen</td>\n",
       "      <td>ID.3 Pure</td>\n",
       "      <td>10.0 sec</td>\n",
       "      <td>160 km/h</td>\n",
       "      <td>270 km</td>\n",
       "      <td>167 Wh/km</td>\n",
       "      <td>250 km/h</td>\n",
       "      <td>Rapid charging possible</td>\n",
       "      <td>Rear Wheel Drive</td>\n",
       "      <td>Type 2 CCS</td>\n",
       "      <td>Hatchback</td>\n",
       "      <td>C</td>\n",
       "      <td>5</td>\n",
       "      <td>30000</td>\n",
       "    </tr>\n",
       "    <tr>\n",
       "      <th>2</th>\n",
       "      <td>Polestar</td>\n",
       "      <td>2</td>\n",
       "      <td>4.7 sec</td>\n",
       "      <td>210 km/h</td>\n",
       "      <td>400 km</td>\n",
       "      <td>181 Wh/km</td>\n",
       "      <td>620 km/h</td>\n",
       "      <td>Rapid charging possible</td>\n",
       "      <td>All Wheel Drive</td>\n",
       "      <td>Type 2 CCS</td>\n",
       "      <td>Liftback</td>\n",
       "      <td>D</td>\n",
       "      <td>5</td>\n",
       "      <td>56440</td>\n",
       "    </tr>\n",
       "    <tr>\n",
       "      <th>3</th>\n",
       "      <td>BMW</td>\n",
       "      <td>iX3</td>\n",
       "      <td>6.8 sec</td>\n",
       "      <td>180 km/h</td>\n",
       "      <td>360 km</td>\n",
       "      <td>206 Wh/km</td>\n",
       "      <td>560 km/h</td>\n",
       "      <td>Rapid charging possible</td>\n",
       "      <td>Rear Wheel Drive</td>\n",
       "      <td>Type 2 CCS</td>\n",
       "      <td>SUV</td>\n",
       "      <td>D</td>\n",
       "      <td>5</td>\n",
       "      <td>68040</td>\n",
       "    </tr>\n",
       "    <tr>\n",
       "      <th>4</th>\n",
       "      <td>Honda</td>\n",
       "      <td>e</td>\n",
       "      <td>9.5 sec</td>\n",
       "      <td>145 km/h</td>\n",
       "      <td>170 km</td>\n",
       "      <td>168 Wh/km</td>\n",
       "      <td>190 km/h</td>\n",
       "      <td>Rapid charging possible</td>\n",
       "      <td>Rear Wheel Drive</td>\n",
       "      <td>Type 2 CCS</td>\n",
       "      <td>Hatchback</td>\n",
       "      <td>B</td>\n",
       "      <td>4</td>\n",
       "      <td>32997</td>\n",
       "    </tr>\n",
       "  </tbody>\n",
       "</table>\n",
       "</div>"
      ],
      "text/plain": [
       "         Brand                          Model     Accel  TopSpeed   Range  \\\n",
       "0       Tesla   Model 3 Long Range Dual Motor   4.6 sec  233 km/h  450 km   \n",
       "1  Volkswagen                       ID.3 Pure  10.0 sec  160 km/h  270 km   \n",
       "2    Polestar                               2   4.7 sec  210 km/h  400 km   \n",
       "3         BMW                            iX3    6.8 sec  180 km/h  360 km   \n",
       "4       Honda                              e    9.5 sec  145 km/h  170 km   \n",
       "\n",
       "  Efficiency FastCharge              RapidCharge        PowerTrain  \\\n",
       "0  161 Wh/km   940 km/h  Rapid charging possible   All Wheel Drive   \n",
       "1  167 Wh/km   250 km/h  Rapid charging possible  Rear Wheel Drive   \n",
       "2  181 Wh/km   620 km/h  Rapid charging possible   All Wheel Drive   \n",
       "3  206 Wh/km   560 km/h  Rapid charging possible  Rear Wheel Drive   \n",
       "4  168 Wh/km   190 km/h  Rapid charging possible  Rear Wheel Drive   \n",
       "\n",
       "     PlugType  BodyStyle Segment  Seats  PriceEuro  \n",
       "0  Type 2 CCS      Sedan       D      5      55480  \n",
       "1  Type 2 CCS  Hatchback       C      5      30000  \n",
       "2  Type 2 CCS   Liftback       D      5      56440  \n",
       "3  Type 2 CCS        SUV       D      5      68040  \n",
       "4  Type 2 CCS  Hatchback       B      4      32997  "
      ]
     },
     "execution_count": 30,
     "metadata": {},
     "output_type": "execute_result"
    }
   ],
   "source": [
    "df_norm.head()"
   ]
  },
  {
   "cell_type": "markdown",
   "id": "7b288aad",
   "metadata": {},
   "source": [
    "# EDA FOR EVIndia"
   ]
  },
  {
   "cell_type": "code",
   "execution_count": 31,
   "id": "dabe5e01",
   "metadata": {},
   "outputs": [
    {
     "data": {
      "text/plain": [
       "(12, 10)"
      ]
     },
     "execution_count": 31,
     "metadata": {},
     "output_type": "execute_result"
    }
   ],
   "source": [
    "df_ev_ind.shape"
   ]
  },
  {
   "cell_type": "code",
   "execution_count": 32,
   "id": "0f5148ae",
   "metadata": {},
   "outputs": [
    {
     "data": {
      "text/html": [
       "<div>\n",
       "<style scoped>\n",
       "    .dataframe tbody tr th:only-of-type {\n",
       "        vertical-align: middle;\n",
       "    }\n",
       "\n",
       "    .dataframe tbody tr th {\n",
       "        vertical-align: top;\n",
       "    }\n",
       "\n",
       "    .dataframe thead th {\n",
       "        text-align: right;\n",
       "    }\n",
       "</style>\n",
       "<table border=\"1\" class=\"dataframe\">\n",
       "  <thead>\n",
       "    <tr style=\"text-align: right;\">\n",
       "      <th></th>\n",
       "      <th>Car</th>\n",
       "      <th>Style</th>\n",
       "      <th>Range</th>\n",
       "      <th>Transmission</th>\n",
       "      <th>VehicleType</th>\n",
       "      <th>PriceRange</th>\n",
       "      <th>Capacity</th>\n",
       "      <th>BootSpace</th>\n",
       "      <th>BaseModel</th>\n",
       "      <th>TopModel</th>\n",
       "    </tr>\n",
       "  </thead>\n",
       "  <tbody>\n",
       "    <tr>\n",
       "      <th>0</th>\n",
       "      <td>Tata Nexon EV</td>\n",
       "      <td>Compact SUV</td>\n",
       "      <td>312 Km/Full Charge</td>\n",
       "      <td>Automatic</td>\n",
       "      <td>Electric</td>\n",
       "      <td>₹ 13.99 - 17.4 L</td>\n",
       "      <td>5 Seater</td>\n",
       "      <td>350 L</td>\n",
       "      <td>XM</td>\n",
       "      <td>Dark XZ Plus LUX</td>\n",
       "    </tr>\n",
       "    <tr>\n",
       "      <th>1</th>\n",
       "      <td>Tata Tigor EV</td>\n",
       "      <td>Subcompact Sedan</td>\n",
       "      <td>306 Km/Full Charge</td>\n",
       "      <td>Automatic</td>\n",
       "      <td>Electric</td>\n",
       "      <td>₹ 12.49 - 13.64 L</td>\n",
       "      <td>5 Seater</td>\n",
       "      <td>316 L</td>\n",
       "      <td>XE</td>\n",
       "      <td>XZ Plus Dual Tone</td>\n",
       "    </tr>\n",
       "    <tr>\n",
       "      <th>2</th>\n",
       "      <td>Tata Nexon EV Max</td>\n",
       "      <td>Compact SUV</td>\n",
       "      <td>437 Km/Full Charge</td>\n",
       "      <td>Automatic</td>\n",
       "      <td>Electric</td>\n",
       "      <td>₹ 17.74 - 19.24 L</td>\n",
       "      <td>5 Seater</td>\n",
       "      <td>350 L</td>\n",
       "      <td>XZ Plus 3.3 kW</td>\n",
       "      <td>XZ Plus Lux 7.2 kW</td>\n",
       "    </tr>\n",
       "    <tr>\n",
       "      <th>3</th>\n",
       "      <td>MG ZS EV</td>\n",
       "      <td>Compact SUV</td>\n",
       "      <td>419 Km/Full Charge</td>\n",
       "      <td>Automatic</td>\n",
       "      <td>Electric</td>\n",
       "      <td>₹ 21.99 - 25.88 L</td>\n",
       "      <td>5 Seater</td>\n",
       "      <td>448 L</td>\n",
       "      <td>Excite</td>\n",
       "      <td>Exclusive</td>\n",
       "    </tr>\n",
       "    <tr>\n",
       "      <th>4</th>\n",
       "      <td>Hyundai Kona Electric</td>\n",
       "      <td>Compact SUV</td>\n",
       "      <td>452 Km/Full Charge</td>\n",
       "      <td>Automatic</td>\n",
       "      <td>Electric</td>\n",
       "      <td>₹ 23.79 - 23.98 L</td>\n",
       "      <td>5 Seater</td>\n",
       "      <td>na</td>\n",
       "      <td>Premium Dual Tone</td>\n",
       "      <td>HSE</td>\n",
       "    </tr>\n",
       "    <tr>\n",
       "      <th>5</th>\n",
       "      <td>Jaguar I-Pace</td>\n",
       "      <td>Premium Midsize Sedan</td>\n",
       "      <td>470 Km/Full Charge</td>\n",
       "      <td>Automatic</td>\n",
       "      <td>Electric</td>\n",
       "      <td>₹ 1.06 - 1.12 Cr</td>\n",
       "      <td>5 Seater</td>\n",
       "      <td>656 L</td>\n",
       "      <td>S</td>\n",
       "      <td>Sportback 55</td>\n",
       "    </tr>\n",
       "    <tr>\n",
       "      <th>6</th>\n",
       "      <td>Audi E-Tron GT</td>\n",
       "      <td>Premium Coupe</td>\n",
       "      <td>388 Km/Full Charge</td>\n",
       "      <td>Automatic</td>\n",
       "      <td>Electric</td>\n",
       "      <td>₹ 1.8 Cr</td>\n",
       "      <td>5 Seater</td>\n",
       "      <td>405 L</td>\n",
       "      <td>Quattro</td>\n",
       "      <td>na</td>\n",
       "    </tr>\n",
       "    <tr>\n",
       "      <th>7</th>\n",
       "      <td>BYD E6</td>\n",
       "      <td>Subcompact MPV</td>\n",
       "      <td>415 Km/Full Charge</td>\n",
       "      <td>Automatic</td>\n",
       "      <td>Electric</td>\n",
       "      <td>₹ 29.15 L</td>\n",
       "      <td>5 Seater</td>\n",
       "      <td>580 L</td>\n",
       "      <td>STD</td>\n",
       "      <td>na</td>\n",
       "    </tr>\n",
       "    <tr>\n",
       "      <th>8</th>\n",
       "      <td>Mercedes-Benz EQC</td>\n",
       "      <td>Compact SUV</td>\n",
       "      <td>471 Km/Full Charge</td>\n",
       "      <td>Automatic</td>\n",
       "      <td>Electric</td>\n",
       "      <td>₹ 1 Cr</td>\n",
       "      <td>5 Seater</td>\n",
       "      <td>na</td>\n",
       "      <td>na</td>\n",
       "      <td>na</td>\n",
       "    </tr>\n",
       "    <tr>\n",
       "      <th>9</th>\n",
       "      <td>BMW iX</td>\n",
       "      <td>Premium Fullsize SUV</td>\n",
       "      <td>425 Km/Full Charge</td>\n",
       "      <td>Automatic</td>\n",
       "      <td>Electric</td>\n",
       "      <td>₹ 1.16 Cr</td>\n",
       "      <td>5 Seater</td>\n",
       "      <td>na</td>\n",
       "      <td>na</td>\n",
       "      <td>na</td>\n",
       "    </tr>\n",
       "    <tr>\n",
       "      <th>10</th>\n",
       "      <td>Porsche Taycan</td>\n",
       "      <td>Premium Sports Sedan</td>\n",
       "      <td>na</td>\n",
       "      <td>Automatic</td>\n",
       "      <td>Electric</td>\n",
       "      <td>₹ 1.5 Cr</td>\n",
       "      <td>4 Seater</td>\n",
       "      <td>na</td>\n",
       "      <td>na</td>\n",
       "      <td>na</td>\n",
       "    </tr>\n",
       "    <tr>\n",
       "      <th>11</th>\n",
       "      <td>Audi E-Tron</td>\n",
       "      <td>Compact SUV</td>\n",
       "      <td>400 Km/Full Charge</td>\n",
       "      <td>Automatic</td>\n",
       "      <td>Electric</td>\n",
       "      <td>₹ 1.01 - 1.19 Cr</td>\n",
       "      <td>5 Seater</td>\n",
       "      <td>660 L</td>\n",
       "      <td>na</td>\n",
       "      <td>na</td>\n",
       "    </tr>\n",
       "  </tbody>\n",
       "</table>\n",
       "</div>"
      ],
      "text/plain": [
       "                      Car                  Style               Range  \\\n",
       "0           Tata Nexon EV            Compact SUV  312 Km/Full Charge   \n",
       "1           Tata Tigor EV       Subcompact Sedan  306 Km/Full Charge   \n",
       "2       Tata Nexon EV Max            Compact SUV  437 Km/Full Charge   \n",
       "3                MG ZS EV            Compact SUV  419 Km/Full Charge   \n",
       "4   Hyundai Kona Electric            Compact SUV  452 Km/Full Charge   \n",
       "5           Jaguar I-Pace  Premium Midsize Sedan  470 Km/Full Charge   \n",
       "6          Audi E-Tron GT          Premium Coupe  388 Km/Full Charge   \n",
       "7                  BYD E6         Subcompact MPV  415 Km/Full Charge   \n",
       "8       Mercedes-Benz EQC            Compact SUV  471 Km/Full Charge   \n",
       "9                  BMW iX   Premium Fullsize SUV  425 Km/Full Charge   \n",
       "10         Porsche Taycan   Premium Sports Sedan                  na   \n",
       "11            Audi E-Tron            Compact SUV  400 Km/Full Charge   \n",
       "\n",
       "   Transmission VehicleType         PriceRange   Capacity BootSpace  \\\n",
       "0     Automatic    Electric   ₹ 13.99 - 17.4 L  5 Seater      350 L   \n",
       "1     Automatic    Electric  ₹ 12.49 - 13.64 L  5 Seater      316 L   \n",
       "2     Automatic    Electric  ₹ 17.74 - 19.24 L  5 Seater      350 L   \n",
       "3     Automatic    Electric  ₹ 21.99 - 25.88 L  5 Seater      448 L   \n",
       "4     Automatic    Electric  ₹ 23.79 - 23.98 L  5 Seater         na   \n",
       "5     Automatic    Electric   ₹ 1.06 - 1.12 Cr  5 Seater      656 L   \n",
       "6     Automatic    Electric           ₹ 1.8 Cr  5 Seater      405 L   \n",
       "7     Automatic    Electric          ₹ 29.15 L  5 Seater      580 L   \n",
       "8     Automatic    Electric             ₹ 1 Cr  5 Seater         na   \n",
       "9     Automatic    Electric          ₹ 1.16 Cr  5 Seater         na   \n",
       "10    Automatic    Electric           ₹ 1.5 Cr  4 Seater         na   \n",
       "11    Automatic    Electric   ₹ 1.01 - 1.19 Cr  5 Seater      660 L   \n",
       "\n",
       "             BaseModel             TopModel  \n",
       "0                  XM     Dark XZ Plus LUX   \n",
       "1                  XE    XZ Plus Dual Tone   \n",
       "2      XZ Plus 3.3 kW   XZ Plus Lux 7.2 kW   \n",
       "3              Excite            Exclusive   \n",
       "4   Premium Dual Tone                  HSE   \n",
       "5                   S         Sportback 55   \n",
       "6             Quattro                    na  \n",
       "7                 STD                    na  \n",
       "8                   na                   na  \n",
       "9                   na                   na  \n",
       "10                  na                   na  \n",
       "11                  na                   na  "
      ]
     },
     "execution_count": 32,
     "metadata": {},
     "output_type": "execute_result"
    }
   ],
   "source": [
    "df_ev_ind.head(12)"
   ]
  },
  {
   "cell_type": "code",
   "execution_count": 33,
   "id": "f98a81df",
   "metadata": {},
   "outputs": [
    {
     "data": {
      "text/html": [
       "<div>\n",
       "<style scoped>\n",
       "    .dataframe tbody tr th:only-of-type {\n",
       "        vertical-align: middle;\n",
       "    }\n",
       "\n",
       "    .dataframe tbody tr th {\n",
       "        vertical-align: top;\n",
       "    }\n",
       "\n",
       "    .dataframe thead th {\n",
       "        text-align: right;\n",
       "    }\n",
       "</style>\n",
       "<table border=\"1\" class=\"dataframe\">\n",
       "  <thead>\n",
       "    <tr style=\"text-align: right;\">\n",
       "      <th></th>\n",
       "      <th>Car</th>\n",
       "      <th>Style</th>\n",
       "      <th>Range</th>\n",
       "      <th>Transmission</th>\n",
       "      <th>VehicleType</th>\n",
       "      <th>PriceRange</th>\n",
       "      <th>Capacity</th>\n",
       "      <th>BootSpace</th>\n",
       "      <th>BaseModel</th>\n",
       "      <th>TopModel</th>\n",
       "    </tr>\n",
       "  </thead>\n",
       "  <tbody>\n",
       "    <tr>\n",
       "      <th>0</th>\n",
       "      <td>Tata Nexon EV</td>\n",
       "      <td>Compact SUV</td>\n",
       "      <td>312 Km/Full Charge</td>\n",
       "      <td>Automatic</td>\n",
       "      <td>Electric</td>\n",
       "      <td>₹ 13.99 - 17.4 L</td>\n",
       "      <td>5 Seater</td>\n",
       "      <td>350 L</td>\n",
       "      <td>XM</td>\n",
       "      <td>Dark XZ Plus LUX</td>\n",
       "    </tr>\n",
       "    <tr>\n",
       "      <th>1</th>\n",
       "      <td>Tata Tigor EV</td>\n",
       "      <td>Subcompact Sedan</td>\n",
       "      <td>306 Km/Full Charge</td>\n",
       "      <td>Automatic</td>\n",
       "      <td>Electric</td>\n",
       "      <td>₹ 12.49 - 13.64 L</td>\n",
       "      <td>5 Seater</td>\n",
       "      <td>316 L</td>\n",
       "      <td>XE</td>\n",
       "      <td>XZ Plus Dual Tone</td>\n",
       "    </tr>\n",
       "    <tr>\n",
       "      <th>2</th>\n",
       "      <td>Tata Nexon EV Max</td>\n",
       "      <td>Compact SUV</td>\n",
       "      <td>437 Km/Full Charge</td>\n",
       "      <td>Automatic</td>\n",
       "      <td>Electric</td>\n",
       "      <td>₹ 17.74 - 19.24 L</td>\n",
       "      <td>5 Seater</td>\n",
       "      <td>350 L</td>\n",
       "      <td>XZ Plus 3.3 kW</td>\n",
       "      <td>XZ Plus Lux 7.2 kW</td>\n",
       "    </tr>\n",
       "    <tr>\n",
       "      <th>3</th>\n",
       "      <td>MG ZS EV</td>\n",
       "      <td>Compact SUV</td>\n",
       "      <td>419 Km/Full Charge</td>\n",
       "      <td>Automatic</td>\n",
       "      <td>Electric</td>\n",
       "      <td>₹ 21.99 - 25.88 L</td>\n",
       "      <td>5 Seater</td>\n",
       "      <td>448 L</td>\n",
       "      <td>Excite</td>\n",
       "      <td>Exclusive</td>\n",
       "    </tr>\n",
       "    <tr>\n",
       "      <th>4</th>\n",
       "      <td>Hyundai Kona Electric</td>\n",
       "      <td>Compact SUV</td>\n",
       "      <td>452 Km/Full Charge</td>\n",
       "      <td>Automatic</td>\n",
       "      <td>Electric</td>\n",
       "      <td>₹ 23.79 - 23.98 L</td>\n",
       "      <td>5 Seater</td>\n",
       "      <td>na</td>\n",
       "      <td>Premium Dual Tone</td>\n",
       "      <td>HSE</td>\n",
       "    </tr>\n",
       "    <tr>\n",
       "      <th>5</th>\n",
       "      <td>Jaguar I-Pace</td>\n",
       "      <td>Premium Midsize Sedan</td>\n",
       "      <td>470 Km/Full Charge</td>\n",
       "      <td>Automatic</td>\n",
       "      <td>Electric</td>\n",
       "      <td>₹ 1.06 - 1.12 Cr</td>\n",
       "      <td>5 Seater</td>\n",
       "      <td>656 L</td>\n",
       "      <td>S</td>\n",
       "      <td>Sportback 55</td>\n",
       "    </tr>\n",
       "    <tr>\n",
       "      <th>6</th>\n",
       "      <td>Audi E-Tron GT</td>\n",
       "      <td>Premium Coupe</td>\n",
       "      <td>388 Km/Full Charge</td>\n",
       "      <td>Automatic</td>\n",
       "      <td>Electric</td>\n",
       "      <td>₹ 1.8 Cr</td>\n",
       "      <td>5 Seater</td>\n",
       "      <td>405 L</td>\n",
       "      <td>Quattro</td>\n",
       "      <td>na</td>\n",
       "    </tr>\n",
       "    <tr>\n",
       "      <th>7</th>\n",
       "      <td>BYD E6</td>\n",
       "      <td>Subcompact MPV</td>\n",
       "      <td>415 Km/Full Charge</td>\n",
       "      <td>Automatic</td>\n",
       "      <td>Electric</td>\n",
       "      <td>₹ 29.15 L</td>\n",
       "      <td>5 Seater</td>\n",
       "      <td>580 L</td>\n",
       "      <td>STD</td>\n",
       "      <td>na</td>\n",
       "    </tr>\n",
       "    <tr>\n",
       "      <th>11</th>\n",
       "      <td>Audi E-Tron</td>\n",
       "      <td>Compact SUV</td>\n",
       "      <td>400 Km/Full Charge</td>\n",
       "      <td>Automatic</td>\n",
       "      <td>Electric</td>\n",
       "      <td>₹ 1.01 - 1.19 Cr</td>\n",
       "      <td>5 Seater</td>\n",
       "      <td>660 L</td>\n",
       "      <td>na</td>\n",
       "      <td>na</td>\n",
       "    </tr>\n",
       "  </tbody>\n",
       "</table>\n",
       "</div>"
      ],
      "text/plain": [
       "                      Car                  Style               Range  \\\n",
       "0           Tata Nexon EV            Compact SUV  312 Km/Full Charge   \n",
       "1           Tata Tigor EV       Subcompact Sedan  306 Km/Full Charge   \n",
       "2       Tata Nexon EV Max            Compact SUV  437 Km/Full Charge   \n",
       "3                MG ZS EV            Compact SUV  419 Km/Full Charge   \n",
       "4   Hyundai Kona Electric            Compact SUV  452 Km/Full Charge   \n",
       "5           Jaguar I-Pace  Premium Midsize Sedan  470 Km/Full Charge   \n",
       "6          Audi E-Tron GT          Premium Coupe  388 Km/Full Charge   \n",
       "7                  BYD E6         Subcompact MPV  415 Km/Full Charge   \n",
       "11            Audi E-Tron            Compact SUV  400 Km/Full Charge   \n",
       "\n",
       "   Transmission VehicleType         PriceRange   Capacity BootSpace  \\\n",
       "0     Automatic    Electric   ₹ 13.99 - 17.4 L  5 Seater      350 L   \n",
       "1     Automatic    Electric  ₹ 12.49 - 13.64 L  5 Seater      316 L   \n",
       "2     Automatic    Electric  ₹ 17.74 - 19.24 L  5 Seater      350 L   \n",
       "3     Automatic    Electric  ₹ 21.99 - 25.88 L  5 Seater      448 L   \n",
       "4     Automatic    Electric  ₹ 23.79 - 23.98 L  5 Seater         na   \n",
       "5     Automatic    Electric   ₹ 1.06 - 1.12 Cr  5 Seater      656 L   \n",
       "6     Automatic    Electric           ₹ 1.8 Cr  5 Seater      405 L   \n",
       "7     Automatic    Electric          ₹ 29.15 L  5 Seater      580 L   \n",
       "11    Automatic    Electric   ₹ 1.01 - 1.19 Cr  5 Seater      660 L   \n",
       "\n",
       "             BaseModel             TopModel  \n",
       "0                  XM     Dark XZ Plus LUX   \n",
       "1                  XE    XZ Plus Dual Tone   \n",
       "2      XZ Plus 3.3 kW   XZ Plus Lux 7.2 kW   \n",
       "3              Excite            Exclusive   \n",
       "4   Premium Dual Tone                  HSE   \n",
       "5                   S         Sportback 55   \n",
       "6             Quattro                    na  \n",
       "7                 STD                    na  \n",
       "11                  na                   na  "
      ]
     },
     "execution_count": 33,
     "metadata": {},
     "output_type": "execute_result"
    }
   ],
   "source": [
    "# Drop the 10th row which has 'Range' as na, and also rows 8, 9 & 10 which has 'BootSpace' as na\n",
    "df_ev_ind.drop([8,9,10], axis = 0, inplace = True)\n",
    "df_ev_ind.head(10)"
   ]
  },
  {
   "cell_type": "markdown",
   "id": "2b7718dc",
   "metadata": {},
   "source": [
    "# EDA for Indian automoble buying behavour study"
   ]
  },
  {
   "cell_type": "code",
   "execution_count": 36,
   "id": "3ea8f262",
   "metadata": {},
   "outputs": [
    {
     "data": {
      "text/html": [
       "<div>\n",
       "<style scoped>\n",
       "    .dataframe tbody tr th:only-of-type {\n",
       "        vertical-align: middle;\n",
       "    }\n",
       "\n",
       "    .dataframe tbody tr th {\n",
       "        vertical-align: top;\n",
       "    }\n",
       "\n",
       "    .dataframe thead th {\n",
       "        text-align: right;\n",
       "    }\n",
       "</style>\n",
       "<table border=\"1\" class=\"dataframe\">\n",
       "  <thead>\n",
       "    <tr style=\"text-align: right;\">\n",
       "      <th></th>\n",
       "      <th>Age</th>\n",
       "      <th>Profession</th>\n",
       "      <th>Marrital Status</th>\n",
       "      <th>Education</th>\n",
       "      <th>No of Dependents</th>\n",
       "      <th>Personal loan</th>\n",
       "      <th>House Loan</th>\n",
       "      <th>Wife Working</th>\n",
       "      <th>Salary</th>\n",
       "      <th>Wife Salary</th>\n",
       "      <th>Total Salary</th>\n",
       "      <th>Make</th>\n",
       "      <th>Price</th>\n",
       "    </tr>\n",
       "  </thead>\n",
       "  <tbody>\n",
       "    <tr>\n",
       "      <th>0</th>\n",
       "      <td>27</td>\n",
       "      <td>Salaried</td>\n",
       "      <td>Single</td>\n",
       "      <td>Post Graduate</td>\n",
       "      <td>0</td>\n",
       "      <td>Yes</td>\n",
       "      <td>No</td>\n",
       "      <td>No</td>\n",
       "      <td>800000</td>\n",
       "      <td>0</td>\n",
       "      <td>800000</td>\n",
       "      <td>i20</td>\n",
       "      <td>800000</td>\n",
       "    </tr>\n",
       "    <tr>\n",
       "      <th>1</th>\n",
       "      <td>35</td>\n",
       "      <td>Salaried</td>\n",
       "      <td>Married</td>\n",
       "      <td>Post Graduate</td>\n",
       "      <td>2</td>\n",
       "      <td>Yes</td>\n",
       "      <td>Yes</td>\n",
       "      <td>Yes</td>\n",
       "      <td>1400000</td>\n",
       "      <td>600000</td>\n",
       "      <td>2000000</td>\n",
       "      <td>Ciaz</td>\n",
       "      <td>1000000</td>\n",
       "    </tr>\n",
       "    <tr>\n",
       "      <th>2</th>\n",
       "      <td>45</td>\n",
       "      <td>Business</td>\n",
       "      <td>Married</td>\n",
       "      <td>Graduate</td>\n",
       "      <td>4</td>\n",
       "      <td>Yes</td>\n",
       "      <td>Yes</td>\n",
       "      <td>No</td>\n",
       "      <td>1800000</td>\n",
       "      <td>0</td>\n",
       "      <td>1800000</td>\n",
       "      <td>Duster</td>\n",
       "      <td>1200000</td>\n",
       "    </tr>\n",
       "    <tr>\n",
       "      <th>3</th>\n",
       "      <td>41</td>\n",
       "      <td>Business</td>\n",
       "      <td>Married</td>\n",
       "      <td>Post Graduate</td>\n",
       "      <td>3</td>\n",
       "      <td>No</td>\n",
       "      <td>No</td>\n",
       "      <td>Yes</td>\n",
       "      <td>1600000</td>\n",
       "      <td>600000</td>\n",
       "      <td>2200000</td>\n",
       "      <td>City</td>\n",
       "      <td>1200000</td>\n",
       "    </tr>\n",
       "    <tr>\n",
       "      <th>4</th>\n",
       "      <td>31</td>\n",
       "      <td>Salaried</td>\n",
       "      <td>Married</td>\n",
       "      <td>Post Graduate</td>\n",
       "      <td>2</td>\n",
       "      <td>Yes</td>\n",
       "      <td>No</td>\n",
       "      <td>Yes</td>\n",
       "      <td>1800000</td>\n",
       "      <td>800000</td>\n",
       "      <td>2600000</td>\n",
       "      <td>SUV</td>\n",
       "      <td>1600000</td>\n",
       "    </tr>\n",
       "  </tbody>\n",
       "</table>\n",
       "</div>"
      ],
      "text/plain": [
       "   Age Profession Marrital Status      Education  No of Dependents  \\\n",
       "0   27   Salaried          Single  Post Graduate                 0   \n",
       "1   35   Salaried         Married  Post Graduate                 2   \n",
       "2   45   Business         Married       Graduate                 4   \n",
       "3   41   Business         Married  Post Graduate                 3   \n",
       "4   31   Salaried         Married  Post Graduate                 2   \n",
       "\n",
       "  Personal loan House Loan Wife Working   Salary  Wife Salary  Total Salary  \\\n",
       "0           Yes         No           No   800000            0        800000   \n",
       "1           Yes        Yes          Yes  1400000       600000       2000000   \n",
       "2           Yes        Yes           No  1800000            0       1800000   \n",
       "3            No         No          Yes  1600000       600000       2200000   \n",
       "4           Yes         No          Yes  1800000       800000       2600000   \n",
       "\n",
       "     Make    Price  \n",
       "0     i20   800000  \n",
       "1    Ciaz  1000000  \n",
       "2  Duster  1200000  \n",
       "3    City  1200000  \n",
       "4     SUV  1600000  "
      ]
     },
     "execution_count": 36,
     "metadata": {},
     "output_type": "execute_result"
    }
   ],
   "source": [
    "ds7.head()"
   ]
  },
  {
   "cell_type": "markdown",
   "id": "3ea5a212",
   "metadata": {},
   "source": [
    "# Synthetic Data Generation"
   ]
  },
  {
   "cell_type": "code",
   "execution_count": 37,
   "id": "4f8a0588",
   "metadata": {},
   "outputs": [],
   "source": [
    "synthetic_data_generator_model = GaussianCopula()\n",
    "synthetic_data_generator_model.fit(df_beh)"
   ]
  },
  {
   "cell_type": "code",
   "execution_count": 38,
   "id": "4fe04e2c",
   "metadata": {},
   "outputs": [],
   "source": [
    "sample = synthetic_data_generator_model.sample(1000)"
   ]
  },
  {
   "cell_type": "code",
   "execution_count": 34,
   "id": "46ca0a8d",
   "metadata": {},
   "outputs": [],
   "source": [
    "from sdv.tabular import GaussianCopula"
   ]
  },
  {
   "cell_type": "code",
   "execution_count": 39,
   "id": "42bf1079",
   "metadata": {},
   "outputs": [],
   "source": [
    "ds7=df_beh.append(sample)\n",
    "ds7.reset_index(inplace=True)"
   ]
  },
  {
   "cell_type": "code",
   "execution_count": 40,
   "id": "30e61c27",
   "metadata": {},
   "outputs": [
    {
     "data": {
      "text/plain": [
       "index               False\n",
       "Age                 False\n",
       "Profession          False\n",
       "Marrital Status     False\n",
       "Education           False\n",
       "No of Dependents    False\n",
       "Personal loan       False\n",
       "House Loan          False\n",
       "Wife Working        False\n",
       "Salary              False\n",
       "Wife Salary         False\n",
       "Total Salary        False\n",
       "Make                False\n",
       "Price               False\n",
       "dtype: bool"
      ]
     },
     "execution_count": 40,
     "metadata": {},
     "output_type": "execute_result"
    }
   ],
   "source": [
    "ds7.isnull().any()"
   ]
  },
  {
   "cell_type": "markdown",
   "id": "17e2b417",
   "metadata": {},
   "source": [
    "# Explanatory Data Analysis"
   ]
  },
  {
   "cell_type": "code",
   "execution_count": 41,
   "id": "7169ff12",
   "metadata": {},
   "outputs": [
    {
     "data": {
      "text/plain": [
       "index               False\n",
       "Age                 False\n",
       "Profession          False\n",
       "Marrital Status     False\n",
       "Education           False\n",
       "No of Dependents    False\n",
       "Personal loan       False\n",
       "House Loan          False\n",
       "Wife Working        False\n",
       "Salary              False\n",
       "Wife Salary         False\n",
       "Total Salary        False\n",
       "Make                False\n",
       "Price               False\n",
       "dtype: bool"
      ]
     },
     "execution_count": 41,
     "metadata": {},
     "output_type": "execute_result"
    }
   ],
   "source": [
    "ds7.isnull().any()"
   ]
  },
  {
   "cell_type": "code",
   "execution_count": 42,
   "id": "db4f3f61",
   "metadata": {},
   "outputs": [],
   "source": [
    "AgeGroup={}\n",
    "length=ds7.shape[0]\n",
    "AgeGroup['25-30']=round(ds7[(ds7['Age']>=25)&(ds7['Age']<30)].shape[0]*100/length,2)\n",
    "AgeGroup['30-35']=round(ds7[(ds7['Age']>=30)&(ds7['Age']<35)].shape[0]*100/length,2)\n",
    "AgeGroup['35-40']=round(ds7[(ds7['Age']>=35)&(ds7['Age']<40)].shape[0]*100/length,2)\n",
    "AgeGroup['40-45']=round(ds7[(ds7['Age']>=40)&(ds7['Age']<45)].shape[0]*100/length,2)\n",
    "AgeGroup['45-50']=round(ds7[(ds7['Age']>=45)&(ds7['Age']<50)].shape[0]*100/length,2)\n",
    "AgeGroup['50-55']=round(ds7[(ds7['Age']>=50)&(ds7['Age']<55)].shape[0]*100/length,2)\n",
    "AgeGroup['55+']=round(ds7[ds7['Age']>=55].shape[0]/length,2)"
   ]
  },
  {
   "cell_type": "code",
   "execution_count": 43,
   "id": "08b032b5",
   "metadata": {},
   "outputs": [
    {
     "data": {
      "image/png": "[encoded data removed]",
      "text/plain": [
       "<Figure size 432x288 with 1 Axes>"
      ]
     },
     "metadata": {
      "needs_background": "light"
     },
     "output_type": "display_data"
    }
   ],
   "source": [
    "fig,ax=plt.subplots()\n",
    "plots=sb.barplot(x=list(AgeGroup.keys()),y=list(AgeGroup.values()))\n",
    "for bar in plots.patches:\n",
    "    plots.annotate(format(bar.get_height(), '.2f'),\n",
    "                   (bar.get_x() + bar.get_width() / 2,\n",
    "                    bar.get_height()), ha='center', va='center',\n",
    "                   size=10, xytext=(0, 8),\n",
    "                   textcoords='offset points')\n",
    "ax.set_ylim(0,100)\n",
    "plt.title('Age Group % Buying Cars in India')\n",
    "plt.xlabel('Age Group')\n",
    "plt.show()"
   ]
  },
  {
   "cell_type": "code",
   "execution_count": 44,
   "id": "56163fff",
   "metadata": {},
   "outputs": [],
   "source": [
    "ds7['Car Type']='NA'"
   ]
  },
  {
   "cell_type": "code",
   "execution_count": 45,
   "id": "9be23d72",
   "metadata": {},
   "outputs": [],
   "source": [
    "idx=ds7[(ds7['Make']=='i20') | (ds7['Make']=='Baleno')].index\n",
    "ds7.loc[idx,'Car Type']='Hatchback'\n",
    "idx=ds7[(ds7['Make']=='Ciaz') | (ds7['Make']=='City') | (ds7['Make']=='Verna')].index\n",
    "ds7.loc[idx,'Car Type']='Sedan'\n",
    "idx=ds7[(ds7['Make']=='SUV') | (ds7['Make']=='Duster') | (ds7['Make']=='Creata')].index\n",
    "ds7.loc[idx,'Car Type']='SUV'\n",
    "idx=ds7[(ds7['Make']=='Luxuray')].index\n",
    "ds7.loc[idx,'Car Type']='Luxuray'"
   ]
  },
  {
   "cell_type": "code",
   "execution_count": 46,
   "id": "6836f46e",
   "metadata": {},
   "outputs": [],
   "source": [
    "car_make_groupby=ds7[(ds7['Marrital Status']=='Married') & (ds7['No of Dependents']>=3)].groupby(['Make'])['Make'].count()"
   ]
  },
  {
   "cell_type": "code",
   "execution_count": 47,
   "id": "9da7ba37",
   "metadata": {},
   "outputs": [],
   "source": [
    "car_type_groupby=ds7[(ds7['Marrital Status']=='Married') & (ds7['No of Dependents']>=3)].groupby(['Car Type'])['Car Type'].count()"
   ]
  },
  {
   "cell_type": "code",
   "execution_count": 48,
   "id": "df317c02",
   "metadata": {},
   "outputs": [
    {
     "data": {
      "image/png": "[encoded data removed]",
      "text/plain": [
       "<Figure size 504x360 with 2 Axes>"
      ]
     },
     "metadata": {},
     "output_type": "display_data"
    }
   ],
   "source": [
    "fig, axes = plt.subplots(1,2,figsize=(7,5))\n",
    "axes[0].pie(list(car_make_groupby),labels=list(car_make_groupby.keys()),autopct='%.1f%%')\n",
    "axes[0].set_title('Married and No.of.Dependents>=3 \\'Car Make\\' chart')\n",
    "axes[1].pie(list(car_type_groupby),labels=list(car_type_groupby.keys()),autopct='%.1f%%')\n",
    "axes[1].set_title('Married and No.of.Dependents>=3 \\'Car Type\\' chart')\n",
    "plt.subplots_adjust(right=1.5)\n",
    "plt.show()"
   ]
  },
  {
   "cell_type": "code",
   "execution_count": 49,
   "id": "a1e019ef",
   "metadata": {},
   "outputs": [
    {
     "data": {
      "image/png": "[encoded data removed]",
      "text/plain": [
       "<Figure size 504x360 with 2 Axes>"
      ]
     },
     "metadata": {},
     "output_type": "display_data"
    }
   ],
   "source": [
    "#salaried and Married vs Business and Married People Car Buying Behaviour\n",
    "fig, axes = plt.subplots(1,2,figsize=(7,5))\n",
    "plt.title('salaried and Married vs Business and Married Behaviour')\n",
    "sm=ds7[(ds7['Profession']=='Salaried') & (ds7['Marrital Status']=='Married')].groupby(['Car Type'])['Car Type'].count()\n",
    "bm=ds7[(ds7['Profession']=='Business') & (ds7['Marrital Status']=='Married')].groupby(['Car Type'])['Car Type'].count()\n",
    "axes[0].pie(list(sm),labels=list(sm.keys()),autopct='%.1f%%')\n",
    "axes[0].set_title('Salaried and Married')\n",
    "axes[1].pie(list(bm),labels=list(bm.keys()),autopct='%.1f%%')\n",
    "axes[1].set_title('Business and Married')\n",
    "plt.subplots_adjust(right=1.5)\n",
    "plt.show()"
   ]
  },
  {
   "cell_type": "code",
   "execution_count": 50,
   "id": "c4eb9dee",
   "metadata": {},
   "outputs": [],
   "source": [
    "ds7['Financial Status']='NA'"
   ]
  },
  {
   "cell_type": "code",
   "execution_count": 51,
   "id": "cff3e9da",
   "metadata": {},
   "outputs": [
    {
     "data": {
      "text/plain": [
       "count    1.099000e+03\n",
       "mean     1.781711e+06\n",
       "std      6.565922e+05\n",
       "min      2.000000e+05\n",
       "25%      1.300000e+06\n",
       "50%      1.800000e+06\n",
       "75%      2.200000e+06\n",
       "max      3.800000e+06\n",
       "Name: Salary, dtype: float64"
      ]
     },
     "execution_count": 51,
     "metadata": {},
     "output_type": "execute_result"
    }
   ],
   "source": [
    "ds7['Salary'].describe()"
   ]
  },
  {
   "cell_type": "code",
   "execution_count": 52,
   "id": "1f853ff1",
   "metadata": {},
   "outputs": [
    {
     "data": {
      "text/html": [
       "<div>\n",
       "<style scoped>\n",
       "    .dataframe tbody tr th:only-of-type {\n",
       "        vertical-align: middle;\n",
       "    }\n",
       "\n",
       "    .dataframe tbody tr th {\n",
       "        vertical-align: top;\n",
       "    }\n",
       "\n",
       "    .dataframe thead th {\n",
       "        text-align: right;\n",
       "    }\n",
       "</style>\n",
       "<table border=\"1\" class=\"dataframe\">\n",
       "  <thead>\n",
       "    <tr style=\"text-align: right;\">\n",
       "      <th></th>\n",
       "      <th>index</th>\n",
       "      <th>Age</th>\n",
       "      <th>Profession</th>\n",
       "      <th>Marrital Status</th>\n",
       "      <th>Education</th>\n",
       "      <th>No of Dependents</th>\n",
       "      <th>Personal loan</th>\n",
       "      <th>House Loan</th>\n",
       "      <th>Wife Working</th>\n",
       "      <th>Salary</th>\n",
       "      <th>Wife Salary</th>\n",
       "      <th>Total Salary</th>\n",
       "      <th>Make</th>\n",
       "      <th>Price</th>\n",
       "      <th>Car Type</th>\n",
       "      <th>Financial Status</th>\n",
       "    </tr>\n",
       "  </thead>\n",
       "  <tbody>\n",
       "    <tr>\n",
       "      <th>44</th>\n",
       "      <td>44</td>\n",
       "      <td>34</td>\n",
       "      <td>Salaried</td>\n",
       "      <td>Married</td>\n",
       "      <td>Post Graduate</td>\n",
       "      <td>2</td>\n",
       "      <td>Yes</td>\n",
       "      <td>Yes</td>\n",
       "      <td>No</td>\n",
       "      <td>1600000</td>\n",
       "      <td>0</td>\n",
       "      <td>1600000</td>\n",
       "      <td>i20</td>\n",
       "      <td>800000</td>\n",
       "      <td>Hatchback</td>\n",
       "      <td>NA</td>\n",
       "    </tr>\n",
       "    <tr>\n",
       "      <th>45</th>\n",
       "      <td>45</td>\n",
       "      <td>34</td>\n",
       "      <td>Salaried</td>\n",
       "      <td>Married</td>\n",
       "      <td>Graduate</td>\n",
       "      <td>3</td>\n",
       "      <td>No</td>\n",
       "      <td>Yes</td>\n",
       "      <td>Yes</td>\n",
       "      <td>2200000</td>\n",
       "      <td>1400000</td>\n",
       "      <td>3600000</td>\n",
       "      <td>Creata</td>\n",
       "      <td>1500000</td>\n",
       "      <td>SUV</td>\n",
       "      <td>NA</td>\n",
       "    </tr>\n",
       "    <tr>\n",
       "      <th>46</th>\n",
       "      <td>46</td>\n",
       "      <td>36</td>\n",
       "      <td>Business</td>\n",
       "      <td>Married</td>\n",
       "      <td>Graduate</td>\n",
       "      <td>4</td>\n",
       "      <td>No</td>\n",
       "      <td>No</td>\n",
       "      <td>No</td>\n",
       "      <td>200000</td>\n",
       "      <td>0</td>\n",
       "      <td>200000</td>\n",
       "      <td>Ciaz</td>\n",
       "      <td>1100000</td>\n",
       "      <td>Sedan</td>\n",
       "      <td>NA</td>\n",
       "    </tr>\n",
       "    <tr>\n",
       "      <th>47</th>\n",
       "      <td>47</td>\n",
       "      <td>36</td>\n",
       "      <td>Business</td>\n",
       "      <td>Married</td>\n",
       "      <td>Graduate</td>\n",
       "      <td>2</td>\n",
       "      <td>No</td>\n",
       "      <td>Yes</td>\n",
       "      <td>Yes</td>\n",
       "      <td>1500000</td>\n",
       "      <td>1100000</td>\n",
       "      <td>2600000</td>\n",
       "      <td>Duster</td>\n",
       "      <td>1300000</td>\n",
       "      <td>SUV</td>\n",
       "      <td>NA</td>\n",
       "    </tr>\n",
       "  </tbody>\n",
       "</table>\n",
       "</div>"
      ],
      "text/plain": [
       "    index  Age Profession Marrital Status      Education  No of Dependents  \\\n",
       "44     44   34   Salaried         Married  Post Graduate                 2   \n",
       "45     45   34   Salaried         Married       Graduate                 3   \n",
       "46     46   36   Business         Married       Graduate                 4   \n",
       "47     47   36   Business         Married       Graduate                 2   \n",
       "\n",
       "   Personal loan House Loan Wife Working   Salary  Wife Salary  Total Salary  \\\n",
       "44           Yes        Yes           No  1600000            0       1600000   \n",
       "45            No        Yes          Yes  2200000      1400000       3600000   \n",
       "46            No         No           No   200000            0        200000   \n",
       "47            No        Yes          Yes  1500000      1100000       2600000   \n",
       "\n",
       "      Make    Price   Car Type Financial Status  \n",
       "44     i20   800000  Hatchback               NA  \n",
       "45  Creata  1500000        SUV               NA  \n",
       "46    Ciaz  1100000      Sedan               NA  \n",
       "47  Duster  1300000        SUV               NA  "
      ]
     },
     "execution_count": 52,
     "metadata": {},
     "output_type": "execute_result"
    }
   ],
   "source": [
    "ds7[44:48]"
   ]
  },
  {
   "cell_type": "code",
   "execution_count": 53,
   "id": "5373a0c8",
   "metadata": {},
   "outputs": [
    {
     "data": {
      "text/html": [
       "<div>\n",
       "<style scoped>\n",
       "    .dataframe tbody tr th:only-of-type {\n",
       "        vertical-align: middle;\n",
       "    }\n",
       "\n",
       "    .dataframe tbody tr th {\n",
       "        vertical-align: top;\n",
       "    }\n",
       "\n",
       "    .dataframe thead th {\n",
       "        text-align: right;\n",
       "    }\n",
       "</style>\n",
       "<table border=\"1\" class=\"dataframe\">\n",
       "  <thead>\n",
       "    <tr style=\"text-align: right;\">\n",
       "      <th></th>\n",
       "      <th>index</th>\n",
       "      <th>Age</th>\n",
       "      <th>Profession</th>\n",
       "      <th>Marrital Status</th>\n",
       "      <th>Education</th>\n",
       "      <th>No of Dependents</th>\n",
       "      <th>Personal loan</th>\n",
       "      <th>House Loan</th>\n",
       "      <th>Wife Working</th>\n",
       "      <th>Salary</th>\n",
       "      <th>Wife Salary</th>\n",
       "      <th>Total Salary</th>\n",
       "      <th>Make</th>\n",
       "      <th>Price</th>\n",
       "      <th>Car Type</th>\n",
       "      <th>Financial Status</th>\n",
       "    </tr>\n",
       "  </thead>\n",
       "  <tbody>\n",
       "    <tr>\n",
       "      <th>46</th>\n",
       "      <td>46</td>\n",
       "      <td>36</td>\n",
       "      <td>Business</td>\n",
       "      <td>Married</td>\n",
       "      <td>Graduate</td>\n",
       "      <td>4</td>\n",
       "      <td>No</td>\n",
       "      <td>No</td>\n",
       "      <td>No</td>\n",
       "      <td>200000</td>\n",
       "      <td>0</td>\n",
       "      <td>200000</td>\n",
       "      <td>Ciaz</td>\n",
       "      <td>1100000</td>\n",
       "      <td>Sedan</td>\n",
       "      <td>NA</td>\n",
       "    </tr>\n",
       "    <tr>\n",
       "      <th>134</th>\n",
       "      <td>35</td>\n",
       "      <td>33</td>\n",
       "      <td>Business</td>\n",
       "      <td>Single</td>\n",
       "      <td>Post Graduate</td>\n",
       "      <td>2</td>\n",
       "      <td>No</td>\n",
       "      <td>No</td>\n",
       "      <td>m</td>\n",
       "      <td>400000</td>\n",
       "      <td>0</td>\n",
       "      <td>300000</td>\n",
       "      <td>Baleno</td>\n",
       "      <td>1470000</td>\n",
       "      <td>Hatchback</td>\n",
       "      <td>NA</td>\n",
       "    </tr>\n",
       "    <tr>\n",
       "      <th>644</th>\n",
       "      <td>545</td>\n",
       "      <td>30</td>\n",
       "      <td>Business</td>\n",
       "      <td>Single</td>\n",
       "      <td>Post Graduate</td>\n",
       "      <td>0</td>\n",
       "      <td>Yes</td>\n",
       "      <td>Yes</td>\n",
       "      <td>m</td>\n",
       "      <td>300000</td>\n",
       "      <td>0</td>\n",
       "      <td>200000</td>\n",
       "      <td>Creata</td>\n",
       "      <td>130000</td>\n",
       "      <td>SUV</td>\n",
       "      <td>NA</td>\n",
       "    </tr>\n",
       "  </tbody>\n",
       "</table>\n",
       "</div>"
      ],
      "text/plain": [
       "     index  Age Profession Marrital Status      Education  No of Dependents  \\\n",
       "46      46   36   Business         Married       Graduate                 4   \n",
       "134     35   33   Business          Single  Post Graduate                 2   \n",
       "644    545   30   Business          Single  Post Graduate                 0   \n",
       "\n",
       "    Personal loan House Loan Wife Working  Salary  Wife Salary  Total Salary  \\\n",
       "46             No         No           No  200000            0        200000   \n",
       "134            No         No            m  400000            0        300000   \n",
       "644           Yes        Yes            m  300000            0        200000   \n",
       "\n",
       "       Make    Price   Car Type Financial Status  \n",
       "46     Ciaz  1100000      Sedan               NA  \n",
       "134  Baleno  1470000  Hatchback               NA  \n",
       "644  Creata   130000        SUV               NA  "
      ]
     },
     "execution_count": 53,
     "metadata": {},
     "output_type": "execute_result"
    }
   ],
   "source": [
    "ds7[(ds7['Salary']+ds7['Wife Salary'])<500000]"
   ]
  },
  {
   "cell_type": "code",
   "execution_count": 54,
   "id": "67fea4bd",
   "metadata": {},
   "outputs": [],
   "source": [
    "#Salary\n",
    "ds7.loc[ds7[(ds7['Salary']+ds7['Wife Salary'])<500000].index,'Financial Condition']='Low'\n",
    "ds7.loc[ds7[((ds7['Salary']+ds7['Wife Salary'])>=500000) & ((ds7['Salary']+ds7['Wife Salary'])<=1800000)].index,'Financial Condition']='Middle'\n",
    "ds7.loc[ds7[((ds7['Salary']+ds7['Wife Salary'])>1800000)].index,'Financial Condition']='High'"
   ]
  },
  {
   "cell_type": "code",
   "execution_count": 55,
   "id": "b2fc7037",
   "metadata": {},
   "outputs": [
    {
     "data": {
      "image/png": "[encoded data removed]",
      "text/plain": [
       "<Figure size 360x432 with 3 Axes>"
      ]
     },
     "metadata": {},
     "output_type": "display_data"
    }
   ],
   "source": [
    "fig, axes = plt.subplots(1,3,figsize=(5,6))\n",
    "fl=ds7[ds7['Financial Condition']=='Low'].groupby('Car Type')['Car Type'].count()\n",
    "fm=ds7[ds7['Financial Condition']=='Middle'].groupby('Car Type')['Car Type'].count()\n",
    "fh=ds7[ds7['Financial Condition']=='High'].groupby('Car Type')['Car Type'].count()\n",
    "axes[0].pie(list(fl),labels=list(fl.keys()),autopct='%.1f%%')\n",
    "axes[0].set_title('Financial Status=\\'Low\\' Car Buying Behaviour')\n",
    "axes[1].pie(list(fm),labels=list(fm.keys()),autopct='%.1f%%')\n",
    "axes[1].set_title('Financial Status=\\'Middle\\' Car Buying Behaviour')\n",
    "axes[2].pie(list(fh),labels=list(fh.keys()),autopct='%.1f%%')\n",
    "axes[2].set_title('Financial Status=\\'High\\' Car Buying Behaviour')\n",
    "plt.subplots_adjust(right=2.7)\n",
    "plt.show()"
   ]
  },
  {
   "cell_type": "code",
   "execution_count": 56,
   "id": "3d495895",
   "metadata": {
    "scrolled": true
   },
   "outputs": [
    {
     "data": {
      "text/html": [
       "<div>\n",
       "<style scoped>\n",
       "    .dataframe tbody tr th:only-of-type {\n",
       "        vertical-align: middle;\n",
       "    }\n",
       "\n",
       "    .dataframe tbody tr th {\n",
       "        vertical-align: top;\n",
       "    }\n",
       "\n",
       "    .dataframe thead th {\n",
       "        text-align: right;\n",
       "    }\n",
       "</style>\n",
       "<table border=\"1\" class=\"dataframe\">\n",
       "  <thead>\n",
       "    <tr style=\"text-align: right;\">\n",
       "      <th></th>\n",
       "      <th>index</th>\n",
       "      <th>Age</th>\n",
       "      <th>Profession</th>\n",
       "      <th>Marrital Status</th>\n",
       "      <th>Education</th>\n",
       "      <th>No of Dependents</th>\n",
       "      <th>Personal loan</th>\n",
       "      <th>House Loan</th>\n",
       "      <th>Wife Working</th>\n",
       "      <th>Salary</th>\n",
       "      <th>Wife Salary</th>\n",
       "      <th>Total Salary</th>\n",
       "      <th>Make</th>\n",
       "      <th>Price</th>\n",
       "      <th>Car Type</th>\n",
       "      <th>Financial Status</th>\n",
       "      <th>Financial Condition</th>\n",
       "    </tr>\n",
       "  </thead>\n",
       "  <tbody>\n",
       "    <tr>\n",
       "      <th>0</th>\n",
       "      <td>0</td>\n",
       "      <td>27</td>\n",
       "      <td>Salaried</td>\n",
       "      <td>Single</td>\n",
       "      <td>Post Graduate</td>\n",
       "      <td>0</td>\n",
       "      <td>Yes</td>\n",
       "      <td>No</td>\n",
       "      <td>No</td>\n",
       "      <td>800000</td>\n",
       "      <td>0</td>\n",
       "      <td>800000</td>\n",
       "      <td>i20</td>\n",
       "      <td>800000</td>\n",
       "      <td>Hatchback</td>\n",
       "      <td>NA</td>\n",
       "      <td>Middle</td>\n",
       "    </tr>\n",
       "    <tr>\n",
       "      <th>1</th>\n",
       "      <td>1</td>\n",
       "      <td>35</td>\n",
       "      <td>Salaried</td>\n",
       "      <td>Married</td>\n",
       "      <td>Post Graduate</td>\n",
       "      <td>2</td>\n",
       "      <td>Yes</td>\n",
       "      <td>Yes</td>\n",
       "      <td>Yes</td>\n",
       "      <td>1400000</td>\n",
       "      <td>600000</td>\n",
       "      <td>2000000</td>\n",
       "      <td>Ciaz</td>\n",
       "      <td>1000000</td>\n",
       "      <td>Sedan</td>\n",
       "      <td>NA</td>\n",
       "      <td>High</td>\n",
       "    </tr>\n",
       "    <tr>\n",
       "      <th>2</th>\n",
       "      <td>2</td>\n",
       "      <td>45</td>\n",
       "      <td>Business</td>\n",
       "      <td>Married</td>\n",
       "      <td>Graduate</td>\n",
       "      <td>4</td>\n",
       "      <td>Yes</td>\n",
       "      <td>Yes</td>\n",
       "      <td>No</td>\n",
       "      <td>1800000</td>\n",
       "      <td>0</td>\n",
       "      <td>1800000</td>\n",
       "      <td>Duster</td>\n",
       "      <td>1200000</td>\n",
       "      <td>SUV</td>\n",
       "      <td>NA</td>\n",
       "      <td>Middle</td>\n",
       "    </tr>\n",
       "    <tr>\n",
       "      <th>3</th>\n",
       "      <td>3</td>\n",
       "      <td>41</td>\n",
       "      <td>Business</td>\n",
       "      <td>Married</td>\n",
       "      <td>Post Graduate</td>\n",
       "      <td>3</td>\n",
       "      <td>No</td>\n",
       "      <td>No</td>\n",
       "      <td>Yes</td>\n",
       "      <td>1600000</td>\n",
       "      <td>600000</td>\n",
       "      <td>2200000</td>\n",
       "      <td>City</td>\n",
       "      <td>1200000</td>\n",
       "      <td>Sedan</td>\n",
       "      <td>NA</td>\n",
       "      <td>High</td>\n",
       "    </tr>\n",
       "    <tr>\n",
       "      <th>4</th>\n",
       "      <td>4</td>\n",
       "      <td>31</td>\n",
       "      <td>Salaried</td>\n",
       "      <td>Married</td>\n",
       "      <td>Post Graduate</td>\n",
       "      <td>2</td>\n",
       "      <td>Yes</td>\n",
       "      <td>No</td>\n",
       "      <td>Yes</td>\n",
       "      <td>1800000</td>\n",
       "      <td>800000</td>\n",
       "      <td>2600000</td>\n",
       "      <td>SUV</td>\n",
       "      <td>1600000</td>\n",
       "      <td>SUV</td>\n",
       "      <td>NA</td>\n",
       "      <td>High</td>\n",
       "    </tr>\n",
       "  </tbody>\n",
       "</table>\n",
       "</div>"
      ],
      "text/plain": [
       "   index  Age Profession Marrital Status      Education  No of Dependents  \\\n",
       "0      0   27   Salaried          Single  Post Graduate                 0   \n",
       "1      1   35   Salaried         Married  Post Graduate                 2   \n",
       "2      2   45   Business         Married       Graduate                 4   \n",
       "3      3   41   Business         Married  Post Graduate                 3   \n",
       "4      4   31   Salaried         Married  Post Graduate                 2   \n",
       "\n",
       "  Personal loan House Loan Wife Working   Salary  Wife Salary  Total Salary  \\\n",
       "0           Yes         No           No   800000            0        800000   \n",
       "1           Yes        Yes          Yes  1400000       600000       2000000   \n",
       "2           Yes        Yes           No  1800000            0       1800000   \n",
       "3            No         No          Yes  1600000       600000       2200000   \n",
       "4           Yes         No          Yes  1800000       800000       2600000   \n",
       "\n",
       "     Make    Price   Car Type Financial Status Financial Condition  \n",
       "0     i20   800000  Hatchback               NA              Middle  \n",
       "1    Ciaz  1000000      Sedan               NA                High  \n",
       "2  Duster  1200000        SUV               NA              Middle  \n",
       "3    City  1200000      Sedan               NA                High  \n",
       "4     SUV  1600000        SUV               NA                High  "
      ]
     },
     "execution_count": 56,
     "metadata": {},
     "output_type": "execute_result"
    }
   ],
   "source": [
    "ds7.head()"
   ]
  },
  {
   "cell_type": "markdown",
   "id": "8b133758",
   "metadata": {},
   "source": [
    "# Pre processing of data for k-means clustering"
   ]
  },
  {
   "cell_type": "code",
   "execution_count": 57,
   "id": "1b39d106",
   "metadata": {},
   "outputs": [
    {
     "data": {
      "text/plain": [
       "(99, 13)"
      ]
     },
     "execution_count": 57,
     "metadata": {},
     "output_type": "execute_result"
    }
   ],
   "source": [
    "df_beh.shape"
   ]
  },
  {
   "cell_type": "code",
   "execution_count": 58,
   "id": "8a6a83d2",
   "metadata": {},
   "outputs": [
    {
     "data": {
      "text/html": [
       "<div>\n",
       "<style scoped>\n",
       "    .dataframe tbody tr th:only-of-type {\n",
       "        vertical-align: middle;\n",
       "    }\n",
       "\n",
       "    .dataframe tbody tr th {\n",
       "        vertical-align: top;\n",
       "    }\n",
       "\n",
       "    .dataframe thead th {\n",
       "        text-align: right;\n",
       "    }\n",
       "</style>\n",
       "<table border=\"1\" class=\"dataframe\">\n",
       "  <thead>\n",
       "    <tr style=\"text-align: right;\">\n",
       "      <th></th>\n",
       "      <th>Age</th>\n",
       "      <th>Profession</th>\n",
       "      <th>Marrital Status</th>\n",
       "      <th>Education</th>\n",
       "      <th>No of Dependents</th>\n",
       "      <th>Personal loan</th>\n",
       "      <th>House Loan</th>\n",
       "      <th>Wife Working</th>\n",
       "      <th>Salary</th>\n",
       "      <th>Wife Salary</th>\n",
       "      <th>Total Salary</th>\n",
       "      <th>Make</th>\n",
       "      <th>Price</th>\n",
       "    </tr>\n",
       "  </thead>\n",
       "  <tbody>\n",
       "    <tr>\n",
       "      <th>0</th>\n",
       "      <td>27</td>\n",
       "      <td>Salaried</td>\n",
       "      <td>Single</td>\n",
       "      <td>Post Graduate</td>\n",
       "      <td>0</td>\n",
       "      <td>Yes</td>\n",
       "      <td>No</td>\n",
       "      <td>No</td>\n",
       "      <td>800000</td>\n",
       "      <td>0</td>\n",
       "      <td>800000</td>\n",
       "      <td>i20</td>\n",
       "      <td>800000</td>\n",
       "    </tr>\n",
       "    <tr>\n",
       "      <th>1</th>\n",
       "      <td>35</td>\n",
       "      <td>Salaried</td>\n",
       "      <td>Married</td>\n",
       "      <td>Post Graduate</td>\n",
       "      <td>2</td>\n",
       "      <td>Yes</td>\n",
       "      <td>Yes</td>\n",
       "      <td>Yes</td>\n",
       "      <td>1400000</td>\n",
       "      <td>600000</td>\n",
       "      <td>2000000</td>\n",
       "      <td>Ciaz</td>\n",
       "      <td>1000000</td>\n",
       "    </tr>\n",
       "    <tr>\n",
       "      <th>2</th>\n",
       "      <td>45</td>\n",
       "      <td>Business</td>\n",
       "      <td>Married</td>\n",
       "      <td>Graduate</td>\n",
       "      <td>4</td>\n",
       "      <td>Yes</td>\n",
       "      <td>Yes</td>\n",
       "      <td>No</td>\n",
       "      <td>1800000</td>\n",
       "      <td>0</td>\n",
       "      <td>1800000</td>\n",
       "      <td>Duster</td>\n",
       "      <td>1200000</td>\n",
       "    </tr>\n",
       "    <tr>\n",
       "      <th>3</th>\n",
       "      <td>41</td>\n",
       "      <td>Business</td>\n",
       "      <td>Married</td>\n",
       "      <td>Post Graduate</td>\n",
       "      <td>3</td>\n",
       "      <td>No</td>\n",
       "      <td>No</td>\n",
       "      <td>Yes</td>\n",
       "      <td>1600000</td>\n",
       "      <td>600000</td>\n",
       "      <td>2200000</td>\n",
       "      <td>City</td>\n",
       "      <td>1200000</td>\n",
       "    </tr>\n",
       "    <tr>\n",
       "      <th>4</th>\n",
       "      <td>31</td>\n",
       "      <td>Salaried</td>\n",
       "      <td>Married</td>\n",
       "      <td>Post Graduate</td>\n",
       "      <td>2</td>\n",
       "      <td>Yes</td>\n",
       "      <td>No</td>\n",
       "      <td>Yes</td>\n",
       "      <td>1800000</td>\n",
       "      <td>800000</td>\n",
       "      <td>2600000</td>\n",
       "      <td>SUV</td>\n",
       "      <td>1600000</td>\n",
       "    </tr>\n",
       "  </tbody>\n",
       "</table>\n",
       "</div>"
      ],
      "text/plain": [
       "   Age Profession Marrital Status      Education  No of Dependents  \\\n",
       "0   27   Salaried          Single  Post Graduate                 0   \n",
       "1   35   Salaried         Married  Post Graduate                 2   \n",
       "2   45   Business         Married       Graduate                 4   \n",
       "3   41   Business         Married  Post Graduate                 3   \n",
       "4   31   Salaried         Married  Post Graduate                 2   \n",
       "\n",
       "  Personal loan House Loan Wife Working   Salary  Wife Salary  Total Salary  \\\n",
       "0           Yes         No           No   800000            0        800000   \n",
       "1           Yes        Yes          Yes  1400000       600000       2000000   \n",
       "2           Yes        Yes           No  1800000            0       1800000   \n",
       "3            No         No          Yes  1600000       600000       2200000   \n",
       "4           Yes         No          Yes  1800000       800000       2600000   \n",
       "\n",
       "     Make    Price  \n",
       "0     i20   800000  \n",
       "1    Ciaz  1000000  \n",
       "2  Duster  1200000  \n",
       "3    City  1200000  \n",
       "4     SUV  1600000  "
      ]
     },
     "execution_count": 58,
     "metadata": {},
     "output_type": "execute_result"
    }
   ],
   "source": [
    "df_beh.head()"
   ]
  },
  {
   "cell_type": "code",
   "execution_count": 59,
   "id": "d4b4a00b",
   "metadata": {},
   "outputs": [
    {
     "data": {
      "text/plain": [
       "Age                  int64\n",
       "Profession          object\n",
       "Marrital Status     object\n",
       "Education           object\n",
       "No of Dependents     int64\n",
       "Personal loan       object\n",
       "House Loan          object\n",
       "Wife Working        object\n",
       "Salary               int64\n",
       "Wife Salary          int64\n",
       "Total Salary         int64\n",
       "Make                object\n",
       "Price                int64\n",
       "dtype: object"
      ]
     },
     "execution_count": 59,
     "metadata": {},
     "output_type": "execute_result"
    }
   ],
   "source": [
    "df_beh.dtypes"
   ]
  },
  {
   "cell_type": "code",
   "execution_count": 60,
   "id": "36cdc02b",
   "metadata": {},
   "outputs": [
    {
     "data": {
      "text/plain": [
       "Salaried    64\n",
       "Business    35\n",
       "Name: Profession, dtype: int64"
      ]
     },
     "execution_count": 60,
     "metadata": {},
     "output_type": "execute_result"
    }
   ],
   "source": [
    "df_beh[\"Profession\"].value_counts()"
   ]
  },
  {
   "cell_type": "code",
   "execution_count": 61,
   "id": "e2d50f3f",
   "metadata": {},
   "outputs": [
    {
     "data": {
      "text/html": [
       "<div>\n",
       "<style scoped>\n",
       "    .dataframe tbody tr th:only-of-type {\n",
       "        vertical-align: middle;\n",
       "    }\n",
       "\n",
       "    .dataframe tbody tr th {\n",
       "        vertical-align: top;\n",
       "    }\n",
       "\n",
       "    .dataframe thead th {\n",
       "        text-align: right;\n",
       "    }\n",
       "</style>\n",
       "<table border=\"1\" class=\"dataframe\">\n",
       "  <thead>\n",
       "    <tr style=\"text-align: right;\">\n",
       "      <th></th>\n",
       "      <th>Age</th>\n",
       "      <th>Profession</th>\n",
       "      <th>Marrital Status</th>\n",
       "      <th>Education</th>\n",
       "      <th>No of Dependents</th>\n",
       "      <th>Personal loan</th>\n",
       "      <th>House Loan</th>\n",
       "      <th>Wife Working</th>\n",
       "      <th>Salary</th>\n",
       "      <th>Wife Salary</th>\n",
       "      <th>Total Salary</th>\n",
       "      <th>Make</th>\n",
       "      <th>Price</th>\n",
       "    </tr>\n",
       "  </thead>\n",
       "  <tbody>\n",
       "    <tr>\n",
       "      <th>0</th>\n",
       "      <td>27</td>\n",
       "      <td>0</td>\n",
       "      <td>Single</td>\n",
       "      <td>Post Graduate</td>\n",
       "      <td>0</td>\n",
       "      <td>Yes</td>\n",
       "      <td>No</td>\n",
       "      <td>No</td>\n",
       "      <td>800000</td>\n",
       "      <td>0</td>\n",
       "      <td>800000</td>\n",
       "      <td>i20</td>\n",
       "      <td>800000</td>\n",
       "    </tr>\n",
       "    <tr>\n",
       "      <th>1</th>\n",
       "      <td>35</td>\n",
       "      <td>0</td>\n",
       "      <td>Married</td>\n",
       "      <td>Post Graduate</td>\n",
       "      <td>2</td>\n",
       "      <td>Yes</td>\n",
       "      <td>Yes</td>\n",
       "      <td>Yes</td>\n",
       "      <td>1400000</td>\n",
       "      <td>600000</td>\n",
       "      <td>2000000</td>\n",
       "      <td>Ciaz</td>\n",
       "      <td>1000000</td>\n",
       "    </tr>\n",
       "  </tbody>\n",
       "</table>\n",
       "</div>"
      ],
      "text/plain": [
       "   Age  Profession Marrital Status      Education  No of Dependents  \\\n",
       "0   27           0          Single  Post Graduate                 0   \n",
       "1   35           0         Married  Post Graduate                 2   \n",
       "\n",
       "  Personal loan House Loan Wife Working   Salary  Wife Salary  Total Salary  \\\n",
       "0           Yes         No           No   800000            0        800000   \n",
       "1           Yes        Yes          Yes  1400000       600000       2000000   \n",
       "\n",
       "   Make    Price  \n",
       "0   i20   800000  \n",
       "1  Ciaz  1000000  "
      ]
     },
     "execution_count": 61,
     "metadata": {},
     "output_type": "execute_result"
    }
   ],
   "source": [
    "dict_P = { \"Salaried\" : 0, \"Business\" : 1 }\n",
    "df_beh[\"Profession\"] = df_beh[\"Profession\"].map(dict_P)\n",
    "df_beh.head(2)"
   ]
  },
  {
   "cell_type": "code",
   "execution_count": 62,
   "id": "6f38a8e4",
   "metadata": {},
   "outputs": [
    {
     "data": {
      "text/plain": [
       "Married    84\n",
       "Single     15\n",
       "Name: Marrital Status, dtype: int64"
      ]
     },
     "execution_count": 62,
     "metadata": {},
     "output_type": "execute_result"
    }
   ],
   "source": [
    "df_beh[\"Marrital Status\"].value_counts()"
   ]
  },
  {
   "cell_type": "code",
   "execution_count": 63,
   "id": "f3763405",
   "metadata": {},
   "outputs": [],
   "source": [
    "dict_M = { \"Married\" : 1, \"Single\" : 0 }\n",
    "df_beh[\"Marrital Status\"] = df_beh[\"Marrital Status\"].map(dict_M)"
   ]
  },
  {
   "cell_type": "code",
   "execution_count": 64,
   "id": "1d9598ea",
   "metadata": {},
   "outputs": [
    {
     "data": {
      "text/html": [
       "<div>\n",
       "<style scoped>\n",
       "    .dataframe tbody tr th:only-of-type {\n",
       "        vertical-align: middle;\n",
       "    }\n",
       "\n",
       "    .dataframe tbody tr th {\n",
       "        vertical-align: top;\n",
       "    }\n",
       "\n",
       "    .dataframe thead th {\n",
       "        text-align: right;\n",
       "    }\n",
       "</style>\n",
       "<table border=\"1\" class=\"dataframe\">\n",
       "  <thead>\n",
       "    <tr style=\"text-align: right;\">\n",
       "      <th></th>\n",
       "      <th>Age</th>\n",
       "      <th>Profession</th>\n",
       "      <th>Marrital Status</th>\n",
       "      <th>Education</th>\n",
       "      <th>No of Dependents</th>\n",
       "      <th>Personal loan</th>\n",
       "      <th>House Loan</th>\n",
       "      <th>Wife Working</th>\n",
       "      <th>Salary</th>\n",
       "      <th>Wife Salary</th>\n",
       "      <th>Total Salary</th>\n",
       "      <th>Make</th>\n",
       "      <th>Price</th>\n",
       "    </tr>\n",
       "  </thead>\n",
       "  <tbody>\n",
       "    <tr>\n",
       "      <th>0</th>\n",
       "      <td>27</td>\n",
       "      <td>0</td>\n",
       "      <td>0</td>\n",
       "      <td>Post Graduate</td>\n",
       "      <td>0</td>\n",
       "      <td>Yes</td>\n",
       "      <td>No</td>\n",
       "      <td>No</td>\n",
       "      <td>800000</td>\n",
       "      <td>0</td>\n",
       "      <td>800000</td>\n",
       "      <td>i20</td>\n",
       "      <td>800000</td>\n",
       "    </tr>\n",
       "    <tr>\n",
       "      <th>1</th>\n",
       "      <td>35</td>\n",
       "      <td>0</td>\n",
       "      <td>1</td>\n",
       "      <td>Post Graduate</td>\n",
       "      <td>2</td>\n",
       "      <td>Yes</td>\n",
       "      <td>Yes</td>\n",
       "      <td>Yes</td>\n",
       "      <td>1400000</td>\n",
       "      <td>600000</td>\n",
       "      <td>2000000</td>\n",
       "      <td>Ciaz</td>\n",
       "      <td>1000000</td>\n",
       "    </tr>\n",
       "  </tbody>\n",
       "</table>\n",
       "</div>"
      ],
      "text/plain": [
       "   Age  Profession  Marrital Status      Education  No of Dependents  \\\n",
       "0   27           0                0  Post Graduate                 0   \n",
       "1   35           0                1  Post Graduate                 2   \n",
       "\n",
       "  Personal loan House Loan Wife Working   Salary  Wife Salary  Total Salary  \\\n",
       "0           Yes         No           No   800000            0        800000   \n",
       "1           Yes        Yes          Yes  1400000       600000       2000000   \n",
       "\n",
       "   Make    Price  \n",
       "0   i20   800000  \n",
       "1  Ciaz  1000000  "
      ]
     },
     "execution_count": 64,
     "metadata": {},
     "output_type": "execute_result"
    }
   ],
   "source": [
    "df_beh.head(2)"
   ]
  },
  {
   "cell_type": "code",
   "execution_count": 65,
   "id": "1d140da1",
   "metadata": {},
   "outputs": [
    {
     "data": {
      "text/plain": [
       "Post Graduate    56\n",
       "Graduate         43\n",
       "Name: Education, dtype: int64"
      ]
     },
     "execution_count": 65,
     "metadata": {},
     "output_type": "execute_result"
    }
   ],
   "source": [
    "df_beh[\"Education\"].value_counts()"
   ]
  },
  {
   "cell_type": "code",
   "execution_count": 66,
   "id": "fccb0693",
   "metadata": {},
   "outputs": [],
   "source": [
    "dict_E = { \"Post Graduate\" : 1, \"Graduate\" : 0}\n",
    "df_beh[\"Education\"] = df_beh[\"Education\"].map(dict_E)"
   ]
  },
  {
   "cell_type": "code",
   "execution_count": 67,
   "id": "fa218908",
   "metadata": {},
   "outputs": [
    {
     "data": {
      "text/html": [
       "<div>\n",
       "<style scoped>\n",
       "    .dataframe tbody tr th:only-of-type {\n",
       "        vertical-align: middle;\n",
       "    }\n",
       "\n",
       "    .dataframe tbody tr th {\n",
       "        vertical-align: top;\n",
       "    }\n",
       "\n",
       "    .dataframe thead th {\n",
       "        text-align: right;\n",
       "    }\n",
       "</style>\n",
       "<table border=\"1\" class=\"dataframe\">\n",
       "  <thead>\n",
       "    <tr style=\"text-align: right;\">\n",
       "      <th></th>\n",
       "      <th>Age</th>\n",
       "      <th>Profession</th>\n",
       "      <th>Marrital Status</th>\n",
       "      <th>Education</th>\n",
       "      <th>No of Dependents</th>\n",
       "      <th>Personal loan</th>\n",
       "      <th>House Loan</th>\n",
       "      <th>Wife Working</th>\n",
       "      <th>Salary</th>\n",
       "      <th>Wife Salary</th>\n",
       "      <th>Total Salary</th>\n",
       "      <th>Make</th>\n",
       "      <th>Price</th>\n",
       "    </tr>\n",
       "  </thead>\n",
       "  <tbody>\n",
       "    <tr>\n",
       "      <th>0</th>\n",
       "      <td>27</td>\n",
       "      <td>0</td>\n",
       "      <td>0</td>\n",
       "      <td>1</td>\n",
       "      <td>0</td>\n",
       "      <td>Yes</td>\n",
       "      <td>No</td>\n",
       "      <td>No</td>\n",
       "      <td>800000</td>\n",
       "      <td>0</td>\n",
       "      <td>800000</td>\n",
       "      <td>i20</td>\n",
       "      <td>800000</td>\n",
       "    </tr>\n",
       "    <tr>\n",
       "      <th>1</th>\n",
       "      <td>35</td>\n",
       "      <td>0</td>\n",
       "      <td>1</td>\n",
       "      <td>1</td>\n",
       "      <td>2</td>\n",
       "      <td>Yes</td>\n",
       "      <td>Yes</td>\n",
       "      <td>Yes</td>\n",
       "      <td>1400000</td>\n",
       "      <td>600000</td>\n",
       "      <td>2000000</td>\n",
       "      <td>Ciaz</td>\n",
       "      <td>1000000</td>\n",
       "    </tr>\n",
       "  </tbody>\n",
       "</table>\n",
       "</div>"
      ],
      "text/plain": [
       "   Age  Profession  Marrital Status  Education  No of Dependents  \\\n",
       "0   27           0                0          1                 0   \n",
       "1   35           0                1          1                 2   \n",
       "\n",
       "  Personal loan House Loan Wife Working   Salary  Wife Salary  Total Salary  \\\n",
       "0           Yes         No           No   800000            0        800000   \n",
       "1           Yes        Yes          Yes  1400000       600000       2000000   \n",
       "\n",
       "   Make    Price  \n",
       "0   i20   800000  \n",
       "1  Ciaz  1000000  "
      ]
     },
     "execution_count": 67,
     "metadata": {},
     "output_type": "execute_result"
    }
   ],
   "source": [
    "df_beh.head(2)"
   ]
  },
  {
   "cell_type": "code",
   "execution_count": 68,
   "id": "62f6a38e",
   "metadata": {},
   "outputs": [
    {
     "data": {
      "text/plain": [
       "No     67\n",
       "Yes    32\n",
       "Name: Personal loan, dtype: int64"
      ]
     },
     "execution_count": 68,
     "metadata": {},
     "output_type": "execute_result"
    }
   ],
   "source": [
    "df_beh[\"Personal loan\"].value_counts()"
   ]
  },
  {
   "cell_type": "code",
   "execution_count": 69,
   "id": "dca7123b",
   "metadata": {},
   "outputs": [
    {
     "data": {
      "text/html": [
       "<div>\n",
       "<style scoped>\n",
       "    .dataframe tbody tr th:only-of-type {\n",
       "        vertical-align: middle;\n",
       "    }\n",
       "\n",
       "    .dataframe tbody tr th {\n",
       "        vertical-align: top;\n",
       "    }\n",
       "\n",
       "    .dataframe thead th {\n",
       "        text-align: right;\n",
       "    }\n",
       "</style>\n",
       "<table border=\"1\" class=\"dataframe\">\n",
       "  <thead>\n",
       "    <tr style=\"text-align: right;\">\n",
       "      <th></th>\n",
       "      <th>Age</th>\n",
       "      <th>Profession</th>\n",
       "      <th>Marrital Status</th>\n",
       "      <th>Education</th>\n",
       "      <th>No of Dependents</th>\n",
       "      <th>Personal loan</th>\n",
       "      <th>House Loan</th>\n",
       "      <th>Wife Working</th>\n",
       "      <th>Salary</th>\n",
       "      <th>Wife Salary</th>\n",
       "      <th>Total Salary</th>\n",
       "      <th>Make</th>\n",
       "      <th>Price</th>\n",
       "    </tr>\n",
       "  </thead>\n",
       "  <tbody>\n",
       "    <tr>\n",
       "      <th>0</th>\n",
       "      <td>27</td>\n",
       "      <td>0</td>\n",
       "      <td>0</td>\n",
       "      <td>1</td>\n",
       "      <td>0</td>\n",
       "      <td>1</td>\n",
       "      <td>No</td>\n",
       "      <td>No</td>\n",
       "      <td>800000</td>\n",
       "      <td>0</td>\n",
       "      <td>800000</td>\n",
       "      <td>i20</td>\n",
       "      <td>800000</td>\n",
       "    </tr>\n",
       "    <tr>\n",
       "      <th>1</th>\n",
       "      <td>35</td>\n",
       "      <td>0</td>\n",
       "      <td>1</td>\n",
       "      <td>1</td>\n",
       "      <td>2</td>\n",
       "      <td>1</td>\n",
       "      <td>Yes</td>\n",
       "      <td>Yes</td>\n",
       "      <td>1400000</td>\n",
       "      <td>600000</td>\n",
       "      <td>2000000</td>\n",
       "      <td>Ciaz</td>\n",
       "      <td>1000000</td>\n",
       "    </tr>\n",
       "  </tbody>\n",
       "</table>\n",
       "</div>"
      ],
      "text/plain": [
       "   Age  Profession  Marrital Status  Education  No of Dependents  \\\n",
       "0   27           0                0          1                 0   \n",
       "1   35           0                1          1                 2   \n",
       "\n",
       "   Personal loan House Loan Wife Working   Salary  Wife Salary  Total Salary  \\\n",
       "0              1         No           No   800000            0        800000   \n",
       "1              1        Yes          Yes  1400000       600000       2000000   \n",
       "\n",
       "   Make    Price  \n",
       "0   i20   800000  \n",
       "1  Ciaz  1000000  "
      ]
     },
     "execution_count": 69,
     "metadata": {},
     "output_type": "execute_result"
    }
   ],
   "source": [
    "dict_Yes_No = { \"Yes\" : 1, \"No\" : 0 }\n",
    "df_beh[\"Personal loan\"] = df_beh[\"Personal loan\"].map(dict_Yes_No)\n",
    "df_beh.head(2)"
   ]
  },
  {
   "cell_type": "code",
   "execution_count": 70,
   "id": "f13faa4b",
   "metadata": {},
   "outputs": [
    {
     "data": {
      "text/plain": [
       "No     62\n",
       "Yes    37\n",
       "Name: House Loan, dtype: int64"
      ]
     },
     "execution_count": 70,
     "metadata": {},
     "output_type": "execute_result"
    }
   ],
   "source": [
    "df_beh[\"House Loan\"].value_counts()"
   ]
  },
  {
   "cell_type": "code",
   "execution_count": 71,
   "id": "1940cf18",
   "metadata": {},
   "outputs": [
    {
     "data": {
      "text/html": [
       "<div>\n",
       "<style scoped>\n",
       "    .dataframe tbody tr th:only-of-type {\n",
       "        vertical-align: middle;\n",
       "    }\n",
       "\n",
       "    .dataframe tbody tr th {\n",
       "        vertical-align: top;\n",
       "    }\n",
       "\n",
       "    .dataframe thead th {\n",
       "        text-align: right;\n",
       "    }\n",
       "</style>\n",
       "<table border=\"1\" class=\"dataframe\">\n",
       "  <thead>\n",
       "    <tr style=\"text-align: right;\">\n",
       "      <th></th>\n",
       "      <th>Age</th>\n",
       "      <th>Profession</th>\n",
       "      <th>Marrital Status</th>\n",
       "      <th>Education</th>\n",
       "      <th>No of Dependents</th>\n",
       "      <th>Personal loan</th>\n",
       "      <th>House Loan</th>\n",
       "      <th>Wife Working</th>\n",
       "      <th>Salary</th>\n",
       "      <th>Wife Salary</th>\n",
       "      <th>Total Salary</th>\n",
       "      <th>Make</th>\n",
       "      <th>Price</th>\n",
       "    </tr>\n",
       "  </thead>\n",
       "  <tbody>\n",
       "    <tr>\n",
       "      <th>0</th>\n",
       "      <td>27</td>\n",
       "      <td>0</td>\n",
       "      <td>0</td>\n",
       "      <td>1</td>\n",
       "      <td>0</td>\n",
       "      <td>1</td>\n",
       "      <td>0</td>\n",
       "      <td>No</td>\n",
       "      <td>800000</td>\n",
       "      <td>0</td>\n",
       "      <td>800000</td>\n",
       "      <td>i20</td>\n",
       "      <td>800000</td>\n",
       "    </tr>\n",
       "    <tr>\n",
       "      <th>1</th>\n",
       "      <td>35</td>\n",
       "      <td>0</td>\n",
       "      <td>1</td>\n",
       "      <td>1</td>\n",
       "      <td>2</td>\n",
       "      <td>1</td>\n",
       "      <td>1</td>\n",
       "      <td>Yes</td>\n",
       "      <td>1400000</td>\n",
       "      <td>600000</td>\n",
       "      <td>2000000</td>\n",
       "      <td>Ciaz</td>\n",
       "      <td>1000000</td>\n",
       "    </tr>\n",
       "  </tbody>\n",
       "</table>\n",
       "</div>"
      ],
      "text/plain": [
       "   Age  Profession  Marrital Status  Education  No of Dependents  \\\n",
       "0   27           0                0          1                 0   \n",
       "1   35           0                1          1                 2   \n",
       "\n",
       "   Personal loan  House Loan Wife Working   Salary  Wife Salary  Total Salary  \\\n",
       "0              1           0           No   800000            0        800000   \n",
       "1              1           1          Yes  1400000       600000       2000000   \n",
       "\n",
       "   Make    Price  \n",
       "0   i20   800000  \n",
       "1  Ciaz  1000000  "
      ]
     },
     "execution_count": 71,
     "metadata": {},
     "output_type": "execute_result"
    }
   ],
   "source": [
    "df_beh[\"House Loan\"] = df_beh[\"House Loan\"].map(dict_Yes_No)\n",
    "df_beh.head(2)"
   ]
  },
  {
   "cell_type": "code",
   "execution_count": 72,
   "id": "8272c97d",
   "metadata": {},
   "outputs": [
    {
     "data": {
      "text/plain": [
       "Yes    52\n",
       "No     46\n",
       "m       1\n",
       "Name: Wife Working, dtype: int64"
      ]
     },
     "execution_count": 72,
     "metadata": {},
     "output_type": "execute_result"
    }
   ],
   "source": [
    "df_beh[\"Wife Working\"].value_counts()"
   ]
  },
  {
   "cell_type": "markdown",
   "id": "d7b1e015",
   "metadata": {},
   "source": [
    "# REMOVE THE ROW WHICH SAYS 'Wife Working' as 'm', we dont know if it is Yes or No"
   ]
  },
  {
   "cell_type": "code",
   "execution_count": 741,
   "id": "a9ff4d23",
   "metadata": {},
   "outputs": [
    {
     "data": {
      "text/html": [
       "<div>\n",
       "<style scoped>\n",
       "    .dataframe tbody tr th:only-of-type {\n",
       "        vertical-align: middle;\n",
       "    }\n",
       "\n",
       "    .dataframe tbody tr th {\n",
       "        vertical-align: top;\n",
       "    }\n",
       "\n",
       "    .dataframe thead th {\n",
       "        text-align: right;\n",
       "    }\n",
       "</style>\n",
       "<table border=\"1\" class=\"dataframe\">\n",
       "  <thead>\n",
       "    <tr style=\"text-align: right;\">\n",
       "      <th></th>\n",
       "      <th>Age</th>\n",
       "      <th>Profession</th>\n",
       "      <th>Marrital Status</th>\n",
       "      <th>Education</th>\n",
       "      <th>No of Dependents</th>\n",
       "      <th>Personal loan</th>\n",
       "      <th>House Loan</th>\n",
       "      <th>Wife Working</th>\n",
       "      <th>Salary</th>\n",
       "      <th>Wife Salary</th>\n",
       "      <th>Total Salary</th>\n",
       "      <th>Make</th>\n",
       "      <th>Price</th>\n",
       "    </tr>\n",
       "  </thead>\n",
       "  <tbody>\n",
       "    <tr>\n",
       "      <th>11</th>\n",
       "      <td>35</td>\n",
       "      <td>0</td>\n",
       "      <td>1</td>\n",
       "      <td>0</td>\n",
       "      <td>4</td>\n",
       "      <td>1</td>\n",
       "      <td>1</td>\n",
       "      <td>m</td>\n",
       "      <td>1400000</td>\n",
       "      <td>0</td>\n",
       "      <td>1400000</td>\n",
       "      <td>Baleno</td>\n",
       "      <td>700000</td>\n",
       "    </tr>\n",
       "  </tbody>\n",
       "</table>\n",
       "</div>"
      ],
      "text/plain": [
       "    Age  Profession  Marrital Status  Education  No of Dependents  \\\n",
       "11   35           0                1          0                 4   \n",
       "\n",
       "    Personal loan  House Loan Wife Working   Salary  Wife Salary  \\\n",
       "11              1           1            m  1400000            0   \n",
       "\n",
       "    Total Salary    Make   Price  \n",
       "11       1400000  Baleno  700000  "
      ]
     },
     "execution_count": 741,
     "metadata": {},
     "output_type": "execute_result"
    }
   ],
   "source": [
    "df_beh[df_beh[\"Wife Working\"] == 'm']"
   ]
  },
  {
   "cell_type": "code",
   "execution_count": 78,
   "id": "e8840d57",
   "metadata": {},
   "outputs": [],
   "source": [
    "# DROP THE LAST ROW, WHICH HAS SUM OF ALL THE ROWS\n",
    "df_beh.drop([11,12], axis = 0, inplace = True)"
   ]
  },
  {
   "cell_type": "code",
   "execution_count": 80,
   "id": "a269f1ba",
   "metadata": {},
   "outputs": [
    {
     "data": {
      "text/plain": [
       "Yes    50\n",
       "No     46\n",
       "Name: Wife Working, dtype: int64"
      ]
     },
     "execution_count": 80,
     "metadata": {},
     "output_type": "execute_result"
    }
   ],
   "source": [
    "df_beh[\"Wife Working\"].value_counts()"
   ]
  },
  {
   "cell_type": "code",
   "execution_count": 81,
   "id": "9084d96f",
   "metadata": {},
   "outputs": [
    {
     "data": {
      "text/html": [
       "<div>\n",
       "<style scoped>\n",
       "    .dataframe tbody tr th:only-of-type {\n",
       "        vertical-align: middle;\n",
       "    }\n",
       "\n",
       "    .dataframe tbody tr th {\n",
       "        vertical-align: top;\n",
       "    }\n",
       "\n",
       "    .dataframe thead th {\n",
       "        text-align: right;\n",
       "    }\n",
       "</style>\n",
       "<table border=\"1\" class=\"dataframe\">\n",
       "  <thead>\n",
       "    <tr style=\"text-align: right;\">\n",
       "      <th></th>\n",
       "      <th>Age</th>\n",
       "      <th>Profession</th>\n",
       "      <th>Marrital Status</th>\n",
       "      <th>Education</th>\n",
       "      <th>No of Dependents</th>\n",
       "      <th>Personal loan</th>\n",
       "      <th>House Loan</th>\n",
       "      <th>Wife Working</th>\n",
       "      <th>Salary</th>\n",
       "      <th>Wife Salary</th>\n",
       "      <th>Total Salary</th>\n",
       "      <th>Make</th>\n",
       "      <th>Price</th>\n",
       "    </tr>\n",
       "  </thead>\n",
       "  <tbody>\n",
       "    <tr>\n",
       "      <th>0</th>\n",
       "      <td>27</td>\n",
       "      <td>0</td>\n",
       "      <td>0</td>\n",
       "      <td>1</td>\n",
       "      <td>0</td>\n",
       "      <td>1</td>\n",
       "      <td>0</td>\n",
       "      <td>0</td>\n",
       "      <td>800000</td>\n",
       "      <td>0</td>\n",
       "      <td>800000</td>\n",
       "      <td>i20</td>\n",
       "      <td>800000</td>\n",
       "    </tr>\n",
       "    <tr>\n",
       "      <th>1</th>\n",
       "      <td>35</td>\n",
       "      <td>0</td>\n",
       "      <td>1</td>\n",
       "      <td>1</td>\n",
       "      <td>2</td>\n",
       "      <td>1</td>\n",
       "      <td>1</td>\n",
       "      <td>1</td>\n",
       "      <td>1400000</td>\n",
       "      <td>600000</td>\n",
       "      <td>2000000</td>\n",
       "      <td>Ciaz</td>\n",
       "      <td>1000000</td>\n",
       "    </tr>\n",
       "  </tbody>\n",
       "</table>\n",
       "</div>"
      ],
      "text/plain": [
       "   Age  Profession  Marrital Status  Education  No of Dependents  \\\n",
       "0   27           0                0          1                 0   \n",
       "1   35           0                1          1                 2   \n",
       "\n",
       "   Personal loan  House Loan  Wife Working   Salary  Wife Salary  \\\n",
       "0              1           0             0   800000            0   \n",
       "1              1           1             1  1400000       600000   \n",
       "\n",
       "   Total Salary  Make    Price  \n",
       "0        800000   i20   800000  \n",
       "1       2000000  Ciaz  1000000  "
      ]
     },
     "execution_count": 81,
     "metadata": {},
     "output_type": "execute_result"
    }
   ],
   "source": [
    "df_beh[\"Wife Working\"] = df_beh[\"Wife Working\"].map(dict_Yes_No)\n",
    "df_beh.head(2)"
   ]
  },
  {
   "cell_type": "code",
   "execution_count": 82,
   "id": "b8291b33",
   "metadata": {},
   "outputs": [
    {
     "data": {
      "text/plain": [
       "Age                  int64\n",
       "Profession           int64\n",
       "Marrital Status      int64\n",
       "Education            int64\n",
       "No of Dependents     int64\n",
       "Personal loan        int64\n",
       "House Loan           int64\n",
       "Wife Working         int64\n",
       "Salary               int64\n",
       "Wife Salary          int64\n",
       "Total Salary         int64\n",
       "Make                object\n",
       "Price                int64\n",
       "dtype: object"
      ]
     },
     "execution_count": 82,
     "metadata": {},
     "output_type": "execute_result"
    }
   ],
   "source": [
    "df_beh.dtypes"
   ]
  },
  {
   "cell_type": "markdown",
   "id": "f9fa72df",
   "metadata": {},
   "source": [
    "# Change the categorical values for 'Make' to intergers"
   ]
  },
  {
   "cell_type": "code",
   "execution_count": 83,
   "id": "a098af93",
   "metadata": {},
   "outputs": [
    {
     "data": {
      "text/plain": [
       "SUV        18\n",
       "Baleno     18\n",
       "Creata     14\n",
       "i20        12\n",
       "Ciaz       12\n",
       "City       10\n",
       "Duster      7\n",
       "Verna       3\n",
       "Luxuray     2\n",
       "Name: Make, dtype: int64"
      ]
     },
     "execution_count": 83,
     "metadata": {},
     "output_type": "execute_result"
    }
   ],
   "source": [
    "df_beh[\"Make\"].value_counts()"
   ]
  },
  {
   "cell_type": "code",
   "execution_count": 84,
   "id": "10f89da1",
   "metadata": {},
   "outputs": [],
   "source": [
    "dict_Make = { \"SUV\" : 0, \"Baleno\" : 1, \"Creata\" : 2, \"i20\" : 3, \"Ciaz\" : 4, \"City\" : 5, \"Duster\" : 6, \"Verna\" : 7, \"Luxuray\" : 8}\n",
    "df_beh[\"Make\"] = df_beh[\"Make\"].map(dict_Make)"
   ]
  },
  {
   "cell_type": "code",
   "execution_count": 85,
   "id": "594bfbe6",
   "metadata": {},
   "outputs": [
    {
     "data": {
      "text/plain": [
       "Age                 int64\n",
       "Profession          int64\n",
       "Marrital Status     int64\n",
       "Education           int64\n",
       "No of Dependents    int64\n",
       "Personal loan       int64\n",
       "House Loan          int64\n",
       "Wife Working        int64\n",
       "Salary              int64\n",
       "Wife Salary         int64\n",
       "Total Salary        int64\n",
       "Make                int64\n",
       "Price               int64\n",
       "dtype: object"
      ]
     },
     "execution_count": 85,
     "metadata": {},
     "output_type": "execute_result"
    }
   ],
   "source": [
    "df_beh.dtypes"
   ]
  },
  {
   "cell_type": "code",
   "execution_count": 86,
   "id": "a82bf31e",
   "metadata": {},
   "outputs": [
    {
     "data": {
      "image/png": "[encoded data removed]",
      "text/plain": [
       "<Figure size 864x1008 with 16 Axes>"
      ]
     },
     "metadata": {
      "needs_background": "light"
     },
     "output_type": "display_data"
    }
   ],
   "source": [
    "plt.rcParams['figure.figsize']=(12,14)\n",
    "df_beh.hist()\n",
    "plt.show()"
   ]
  },
  {
   "cell_type": "code",
   "execution_count": 87,
   "id": "05a9feb0",
   "metadata": {},
   "outputs": [],
   "source": [
    "from sklearn.decomposition import PCA\n",
    "from sklearn import preprocessing"
   ]
  },
  {
   "cell_type": "code",
   "execution_count": 88,
   "id": "c109cf74",
   "metadata": {},
   "outputs": [
    {
     "data": {
      "text/plain": [
       "(96, 13)"
      ]
     },
     "execution_count": 88,
     "metadata": {},
     "output_type": "execute_result"
    }
   ],
   "source": [
    "values = df_beh.iloc[:].values\n",
    "values.shape"
   ]
  },
  {
   "cell_type": "code",
   "execution_count": 89,
   "id": "3ce6ee35",
   "metadata": {},
   "outputs": [],
   "source": [
    "pca_data = preprocessing.scale(values)\n",
    "pca = PCA(n_components=13)\n",
    "pc = pca.fit_transform(values)\n",
    "names = ['pc1','pc2','pc3','pc4','pc5','pc6','pc7','pc8','pc9','pc10','pc11','pc12', 'pc13']\n",
    "pf = pd.DataFrame(data=pc,columns=names)"
   ]
  },
  {
   "cell_type": "code",
   "execution_count": 90,
   "id": "de421e4f",
   "metadata": {},
   "outputs": [
    {
     "data": {
      "text/plain": [
       "array([8.38980779e-01, 1.26020588e-01, 3.49986337e-02, 1.09119091e-11,\n",
       "       1.90868942e-12, 5.21002670e-13, 1.26695962e-13, 1.22106700e-13,\n",
       "       8.72989577e-14, 4.77555079e-14, 3.04996065e-14, 1.52902179e-14,\n",
       "       9.54590914e-33])"
      ]
     },
     "execution_count": 90,
     "metadata": {},
     "output_type": "execute_result"
    }
   ],
   "source": [
    "pca.explained_variance_ratio_"
   ]
  },
  {
   "cell_type": "code",
   "execution_count": 91,
   "id": "08e06846",
   "metadata": {},
   "outputs": [
    {
     "data": {
      "text/plain": [
       "array([0.83898078, 0.96500137, 1.        , 1.        , 1.        ,\n",
       "       1.        , 1.        , 1.        , 1.        , 1.        ,\n",
       "       1.        , 1.        , 1.        ])"
      ]
     },
     "execution_count": 91,
     "metadata": {},
     "output_type": "execute_result"
    }
   ],
   "source": [
    "pca.explained_variance_ratio_.cumsum()"
   ]
  },
  {
   "cell_type": "markdown",
   "id": "75e5eb44",
   "metadata": {},
   "source": [
    "# It can be seen that the first two components account for 83% and 13% of the variance"
   ]
  },
  {
   "cell_type": "code",
   "execution_count": 92,
   "id": "08552bfd",
   "metadata": {},
   "outputs": [],
   "source": [
    "# correlation between the original variables and principal components\n",
    "loadings = pca.components_\n",
    "num_pc = pca.n_features_\n",
    "pc_list = [\"PC\"+str(i) for i in list(range(1, num_pc+1))]\n",
    "loadings_df = pd.DataFrame.from_dict(dict(zip(pc_list, loadings)))\n",
    "loadings_df['variable'] = df_beh.columns.values\n",
    "loadings_df = loadings_df.set_index('variable')"
   ]
  },
  {
   "cell_type": "code",
   "execution_count": 94,
   "id": "54b39bc2",
   "metadata": {},
   "outputs": [
    {
     "data": {
      "image/png": "[encoded data removed]",
      "text/plain": [
       "<Figure size 1800x1800 with 2 Axes>"
      ]
     },
     "metadata": {
      "needs_background": "light"
     },
     "output_type": "display_data"
    }
   ],
   "source": [
    "# Heat map for original variables and principal components\n",
    "plt.rcParams['figure.figsize'] = (25,25)\n",
    "ax = sb.heatmap(loadings_df, annot=True)\n",
    "plt.show()"
   ]
  },
  {
   "cell_type": "code",
   "execution_count": 95,
   "id": "8d918144",
   "metadata": {},
   "outputs": [
    {
     "name": "stderr",
     "output_type": "stream",
     "text": [
      "C:\\Users\\sowmy_y2cho5a\\anaconda3\\lib\\site-packages\\sklearn\\cluster\\_kmeans.py:881: UserWarning: KMeans is known to have a memory leak on Windows with MKL, when there are less chunks than available threads. You can avoid it by setting the environment variable OMP_NUM_THREADS=1.\n",
      "  warnings.warn(\n"
     ]
    },
    {
     "data": {
      "image/png": "[encoded data removed]",
      "text/plain": [
       "<Figure size 1800x1800 with 1 Axes>"
      ]
     },
     "metadata": {
      "needs_background": "light"
     },
     "output_type": "display_data"
    }
   ],
   "source": [
    "from sklearn.cluster import KMeans\n",
    "# Get the inertia values for number of clusters varying from 2 to 10\n",
    "inertia = []\n",
    "for i in range(1, 11):\n",
    "    kmeans = KMeans(n_clusters = i, init = 'k-means++', max_iter = 300, n_init = 10, random_state = 0)\n",
    "    kmeans.fit(df_beh)\n",
    "    inertia.append(kmeans.inertia_)\n",
    "\n",
    "# Plot the intertia values for these clusters to choose the appropriate number of clusters\n",
    "plt.plot(range(1, 11), inertia)\n",
    "plt.title('The Elbow Method')\n",
    "plt.xlabel('Number of clusters')\n",
    "plt.ylabel('Inertia')\n",
    "plt.show()"
   ]
  },
  {
   "cell_type": "markdown",
   "id": "feb6769e",
   "metadata": {},
   "source": [
    "# From the above plot we choose the number of clusters as '3'"
   ]
  },
  {
   "cell_type": "code",
   "execution_count": 96,
   "id": "f98e3f83",
   "metadata": {},
   "outputs": [
    {
     "name": "stdout",
     "output_type": "stream",
     "text": [
      "[[3.79761905e+01 2.85714286e-01 9.52380952e-01 5.23809524e-01\n",
      "  2.28571429e+00 2.85714286e-01 4.04761905e-01 5.95238095e-01\n",
      "  1.91428571e+06 5.30952381e+05 2.44523810e+06 3.14285714e+00\n",
      "  1.31904762e+06]\n",
      " [3.25128205e+01 5.12820513e-01 6.66666667e-01 5.64102564e-01\n",
      "  1.89743590e+00 4.10256410e-01 3.33333333e-01 2.56410256e-01\n",
      "  1.23333333e+06 1.35897436e+05 1.36923077e+06 2.48717949e+00\n",
      "  8.79487179e+05]\n",
      " [4.22000000e+01 2.00000000e-01 1.00000000e+00 6.66666667e-01\n",
      "  2.53333333e+00 2.00000000e-01 4.00000000e-01 1.00000000e+00\n",
      "  2.65333333e+06 1.58666667e+06 4.24000000e+06 2.00000000e+00\n",
      "  1.74000000e+06]]\n"
     ]
    }
   ],
   "source": [
    "kmeans3 = KMeans(n_clusters = 3, init = 'k-means++', max_iter = 300, n_init = 10, random_state = 0)\n",
    "kmeans3.fit(df_beh)\n",
    "df_beh['cluster'] = kmeans3.labels_\n",
    "print(kmeans3.cluster_centers_)"
   ]
  },
  {
   "cell_type": "code",
   "execution_count": 101,
   "id": "26c0b744",
   "metadata": {},
   "outputs": [
    {
     "data": {
      "image/png": "[encoded data removed]",
      "text/plain": [
       "<Figure size 720x360 with 1 Axes>"
      ]
     },
     "metadata": {
      "needs_background": "light"
     },
     "output_type": "display_data"
    }
   ],
   "source": [
    "#Scree plot (Elbow test)- PCA\n",
    "from bioinfokit.visuz import cluster\n",
    "cluster.screeplot(obj=[pc_list, pca.explained_variance_ratio_],show=True,dim=(10,5))"
   ]
  },
  {
   "cell_type": "code",
   "execution_count": 103,
   "id": "231a4e17",
   "metadata": {},
   "outputs": [
    {
     "data": {
      "image/png": "[encoded data removed]",
      "text/plain": [
       "<Figure size 720x360 with 1 Axes>"
      ]
     },
     "metadata": {
      "needs_background": "light"
     },
     "output_type": "display_data"
    }
   ],
   "source": [
    "# get PC scores\n",
    "pca_scores = PCA().fit_transform(values)\n",
    "\n",
    "# get 2D biplot\n",
    "cluster.biplot(cscore=pca_scores, loadings=loadings, labels=df_beh.columns.values, var1=round(pca.explained_variance_ratio_[0]*100, 2),\n",
    "    var2=round(pca.explained_variance_ratio_[1]*100, 2),show=True,dim=(10,5))"
   ]
  },
  {
   "cell_type": "code",
   "execution_count": 106,
   "id": "b833d068",
   "metadata": {},
   "outputs": [
    {
     "data": {
      "text/plain": [
       "Counter({1: 39, 0: 42, 2: 15})"
      ]
     },
     "execution_count": 106,
     "metadata": {},
     "output_type": "execute_result"
    }
   ],
   "source": [
    "# Cluster size for the 3 clusters\n",
    "from collections import Counter\n",
    "Counter(kmeans3.labels_)"
   ]
  },
  {
   "cell_type": "code",
   "execution_count": 114,
   "id": "5e70e551",
   "metadata": {},
   "outputs": [],
   "source": [
    "#Visulazing clusters\n",
    "#sb.scatterplot(data=pf, x=\"pc1\", y=\"pc2\", hue=kmeans3.labels_)\n",
    "#plt.scatter(kmeans3.cluster_centers_[:,0], kmeans3.cluster_centers_[:,1], \n",
    "#           marker=\"+\", c=\"r\", s=80, label=\"centroids\")\n",
    "#plt.legend()\n",
    "#plt.show()"
   ]
  },
  {
   "cell_type": "code",
   "execution_count": null,
   "id": "b43c7140",
   "metadata": {},
   "outputs": [],
   "source": []
  }
 ],
 "metadata": {
  "kernelspec": {
   "display_name": "Python 3 (ipykernel)",
   "language": "python",
   "name": "python3"
  },
  "language_info": {
   "codemirror_mode": {
    "name": "ipython",
    "version": 3
   },
   "file_extension": ".py",
   "mimetype": "text/x-python",
   "name": "python",
   "nbconvert_exporter": "python",
   "pygments_lexer": "ipython3",
   "version": "3.9.7"
  }
 },
 "nbformat": 4,
 "nbformat_minor": 5
}
